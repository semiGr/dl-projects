{
 "cells": [
  {
   "cell_type": "markdown",
   "metadata": {
    "nbpresent": {
     "id": "74a2c9b6-abc9-48ad-832b-06ba7936fdd8"
    }
   },
   "source": [
    "### Deep Optimal Stopping - Implementation with tensorflow estimator\n",
    "\n",
    "#### General setting - demonstrated through the dice example"
   ]
  },
  {
   "cell_type": "code",
   "execution_count": 1,
   "metadata": {
    "nbpresent": {
     "id": "8e141512-a121-481e-a5b6-0fd4eb7eb5e6"
    }
   },
   "outputs": [
    {
     "data": {
      "text/plain": [
       "'1.13.1'"
      ]
     },
     "execution_count": 1,
     "metadata": {},
     "output_type": "execute_result"
    }
   ],
   "source": [
    "import tensorflow as tf\n",
    "import numpy as np \n",
    "import scipy\n",
    "tf.__version__"
   ]
  },
  {
   "cell_type": "markdown",
   "metadata": {
    "nbpresent": {
     "id": "d5753b8f-aaa6-44e6-88bf-a09d3fe1a8d8"
    }
   },
   "source": [
    "#### Creating samples in the format of an $M \\times n$ matrix, where \n",
    "* $n$, the length of the row, represents the number of outcomes (or tosses), or the *time steps* in a time series;\n",
    "* $M$ represents the sample size. \n",
    "\n",
    "#### In the example below, we demonstrate the algorithm in two cases, $n=3$ and $n=5$."
   ]
  },
  {
   "cell_type": "code",
   "execution_count": 2,
   "metadata": {
    "nbpresent": {
     "id": "98ea9761-b3f5-4417-a6a7-d9ba447ffbf6"
    }
   },
   "outputs": [],
   "source": [
    "# define sample size for training \n",
    "M = 30000\n",
    "\n",
    "# Two examples: M x 3, and M x 5\n",
    "dice_3 = np.random.randint(low=1, high=7, size=(M, 3))\n",
    "dice_5 = np.random.randint(low=1, high=7, size=(M, 5))"
   ]
  },
  {
   "cell_type": "code",
   "execution_count": 3,
   "metadata": {
    "nbpresent": {
     "id": "776c2a9d-5181-46aa-b91d-e08ad008ba4c"
    }
   },
   "outputs": [
    {
     "name": "stdout",
     "output_type": "stream",
     "text": [
      "The first 10 samples of the M x 3 case: \n",
      "[[4 6 1]\n",
      " [2 3 3]\n",
      " [5 4 3]\n",
      " [6 4 1]\n",
      " [3 3 3]\n",
      " [2 3 4]\n",
      " [3 4 6]\n",
      " [2 3 5]\n",
      " [1 2 5]\n",
      " [6 4 4]]\n",
      "The first 10 samples of the M x 5 case: \n",
      "[[4 1 5 6 5]\n",
      " [5 4 2 4 1]\n",
      " [4 2 3 1 1]\n",
      " [4 5 4 5 2]\n",
      " [5 1 6 2 1]\n",
      " [2 2 4 4 4]\n",
      " [1 6 6 2 1]\n",
      " [6 4 4 3 2]\n",
      " [6 1 2 2 6]\n",
      " [1 3 4 4 4]]\n"
     ]
    }
   ],
   "source": [
    "# see the first 10 paths from the samples generated above\n",
    "print(\"The first 10 samples of the M x 3 case: \")\n",
    "print(dice_3[:10, :])\n",
    "print(\"The first 10 samples of the M x 5 case: \")\n",
    "print(dice_5[:10, :])"
   ]
  },
  {
   "cell_type": "markdown",
   "metadata": {
    "nbpresent": {
     "id": "a8537a15-5ae3-43a3-a38f-472795986af9"
    }
   },
   "source": [
    "#### Tensorflow estimators require input functions, one for training, and one for evaluation. We define these input functions below."
   ]
  },
  {
   "cell_type": "code",
   "execution_count": 4,
   "metadata": {
    "nbpresent": {
     "id": "2b2cec99-a8a7-4042-aab5-b2c777048d74"
    }
   },
   "outputs": [],
   "source": [
    "# define input function for training with estimator, and use the dice np dataset \n",
    "def numpy_train_input_fn(samples): \n",
    "    # get the number of time steps and number of samples\n",
    "    n_timeSteps = np.shape(samples)[-1]\n",
    "    n_samples = np.shape(samples)[0]\n",
    "    return tf.estimator.inputs.numpy_input_fn(\n",
    "        x = dict(zip(np.arange(n_timeSteps), np.reshape(samples.T.astype(float), \n",
    "                                                                             [n_timeSteps, n_samples, 1]))),\n",
    "        \n",
    "        batch_size = 64, \n",
    "        num_epochs = 25, \n",
    "        shuffle = True, \n",
    "        queue_capacity = 1000\n",
    "    )\n",
    "\n",
    "# define input function for evaluation\n",
    "def numpy_eval_input_fn(samples):\n",
    "    # get the number of time steps and number of samples\n",
    "    n_timeSteps = np.shape(samples)[-1]\n",
    "    n_samples = np.shape(samples)[0]\n",
    "    return tf.estimator.inputs.numpy_input_fn(\n",
    "       x = dict(zip(np.arange(n_timeSteps), np.reshape(samples.T.astype(float), \n",
    "                                                                             [n_timeSteps, n_samples, 1]))),\n",
    "        \n",
    "        num_epochs = 1, \n",
    "        shuffle = False\n",
    "    )"
   ]
  },
  {
   "cell_type": "markdown",
   "metadata": {},
   "source": [
    "#### A key feature of the model architecture is that a simple *neural network* sits at each time point. Hence, if there is $n$ time steps, there will be $n-1$ neural nets; $n-1$, because at the terminal time, no neural net is needed. These networks are relatively simple, with two layers, and all have the same architecture. We will call such a network *gridNet* and it is defined next.  \n",
    "\n",
    "#### The *gridNet* function has the following inputs, \n",
    "- time point \n",
    "- inputs (that the network consumes)\n",
    "- nextInputs (this is needed to define the cost function, and it comes from the output of previous networks)\n",
    "- name (this is used to define the variable scope, which becomes important at training level, as training of such gridNets should be done separately, and sequentially);\n",
    "\n",
    "#### and outputs: \n",
    "\n",
    "- F_theta (needed for the cost function and training);\n",
    "- f_theta (needed for the calculation of stopping time);\n",
    "- gridCost (this is the cost function that needs to be optimised at a given time point).\n",
    "\n",
    "#### Note that the optimisers of these nets will be defined separately at the model/graph building stage "
   ]
  },
  {
   "cell_type": "code",
   "execution_count": 5,
   "metadata": {},
   "outputs": [],
   "source": [
    "# -------------------------------------------\n",
    "# Define gridNet that sits on the time points\n",
    "# -------------------------------------------\n",
    "\n",
    "def gridNet(time_point, inputs, nextInputs, name):\n",
    "    one = tf.constant(1, dtype=tf.float64)\n",
    "    \n",
    "    with tf.variable_scope(name): #, reuse=tf.AUTO_REUSE):\n",
    "        \n",
    "        # architecture \n",
    "        first_layer = tf.layers.dense(inputs, 51, activation=tf.nn.relu,\n",
    "                                      kernel_initializer=tf.random_normal_initializer(mean=0.0, stddev=0.01),\n",
    "                                      #kernel_initializer=tf.glorot_normal_initializer(),\n",
    "                                      name=\"first_layer\")\n",
    "        second_layer = tf.layers.dense(first_layer, 51, activation=tf.nn.relu, \n",
    "                                       kernel_initializer=tf.random_normal_initializer(mean=0.0, stddev=0.01),     \n",
    "                                       #kernel_initializer=tf.glorot_normal_initializer(),\n",
    "                                       name=\"second_layer\")\n",
    "        logits = tf.layers.dense(second_layer, 1, activation=None, \n",
    "                                         kernel_initializer=tf.random_normal_initializer(mean=0.0, stddev=0.01),\n",
    "                                        #kernel_initializer=tf.glorot_normal_initializer(),\n",
    "                                          name=\"logits\") \n",
    "        F_theta = tf.nn.sigmoid(logits, name=\"F_theta\")\n",
    "        f_theta = tf.cast(tf.clip_by_value(tf.sign(logits), 0, 2), dtype=tf.int32, name=\"f_theta\")\n",
    "        \n",
    "        # cost \n",
    "        gridReward = tf.add(tf.multiply(F_theta, inputs), \n",
    "                        tf.multiply((one-F_theta), nextInputs), \n",
    "                       name = \"reward_\"+str(time_point))\n",
    "     \n",
    "        gridCost = tf.scalar_mul(-1,tf.reduce_mean(gridReward))\n",
    "    \n",
    "        \n",
    "    return [F_theta, f_theta, gridCost]"
   ]
  },
  {
   "cell_type": "markdown",
   "metadata": {},
   "source": [
    "#### Build the graph, which will serve as a model input for tensorflow estimator "
   ]
  },
  {
   "cell_type": "code",
   "execution_count": 6,
   "metadata": {},
   "outputs": [],
   "source": [
    "# ---------------\n",
    "# Build the model \n",
    "# ---------------\n",
    "\n",
    "def my_model_fn(features, mode, params):  \n",
    "    \n",
    "    \"\"\"Defining the custom architecture\"\"\"\n",
    "    \n",
    "    N = len(features) # length of the time grid\n",
    "    \n",
    "    # creating the input set from the dictionary for practical considerations later\n",
    "    input_set = tf.concat([features[0], features[1]], 1, name=\"input_set\")    \n",
    "    for i in range(N-2):\n",
    "        input_set = tf.concat([input_set, features[2+i]], 1)\n",
    "    \n",
    "    # create a dictionaries that, for each time point, store \n",
    "    taus = {}  # stopping times\n",
    "    nextInputs = {} # that go into the gridNets\n",
    "    ops={}  # optimizers\n",
    "    train_ops = {}  # training\n",
    "    NN = {}  # gridNets \n",
    "    \n",
    "    one = tf.constant(1, dtype=tf.float64)\n",
    "    \n",
    "    # define the networks and flows recursively, starting from N-2 and going to 0 \n",
    "    for t in range(N-2, -1, -1):\n",
    "        \n",
    "        if t==N-2:\n",
    "            nextInputs[t] = features[t+1]\n",
    "            NN[t] = gridNet(t, features[t], nextInputs[t], 'grid_'+str(t))        \n",
    "            ops[t] = tf.train.AdamOptimizer(learning_rate=0.001)         \n",
    "            train_ops[t] = ops[t].minimize(NN[t][2], \n",
    "                                var_list=tf.get_collection(tf.GraphKeys.TRAINABLE_VARIABLES, scope='grid_'+str(t)))\n",
    "    \n",
    "            taus[t] = (N-2)*NN[t][1] + (N-1)*(1-NN[t][1])\n",
    "            \n",
    "        else:\n",
    "            nextInputs[t] = tf.gather_nd(input_set, \n",
    "                       indices=tf.concat([tf.reshape(tf.range(tf.shape(taus[t+1])[0]), shape=tf.shape(taus[t+1])), taus[t+1]], 1),\n",
    "                       name=\"g\"+str(t))\n",
    "            NN[t] = gridNet(t, features[t], nextInputs[t], 'grid_'+str(t))\n",
    "            ops[t] = tf.train.AdamOptimizer(learning_rate=0.001)         \n",
    "            train_ops[t] = ops[t].minimize(NN[t][2], \n",
    "                                    var_list=tf.get_collection(tf.GraphKeys.TRAINABLE_VARIABLES, scope='grid_'+str(t)))\n",
    "    \n",
    "            taus[t] = tf.math.reduce_sum([t*NN[t][1]]+\n",
    "                    [i*NN[i][1]*tf.math.reduce_prod([(1-NN[j][1]) for j in range(t, i)], axis=0) for i in range((t+1),(N-1))]+\n",
    "                     [(N-1)*tf.math.reduce_prod([(1-NN[k][1]) for k in range(t, (N-1))], axis=0)]           \n",
    "                                , axis=0) \n",
    "        \n",
    "    # as a final step, pick the right element from the input set according to the stopping time taus[0]\n",
    "    gg_0 = tf.gather_nd(input_set, \n",
    "                       indices=tf.concat([tf.reshape(tf.range(tf.shape(taus[0])[0]), shape=tf.shape(taus[0])), \n",
    "                                          taus[0]], 1), \n",
    "                       name=\"gg_0\")\n",
    "    \n",
    "    # this will give the price -- the quantity we are looking for \n",
    "    price = tf.reduce_mean(gg_0, name=\"price\")\n",
    "    \n",
    "    # training params\n",
    "    global_step = tf.train.get_global_step()\n",
    "    update_global_step = tf.assign(global_step, global_step + 1, name = 'update_global_step')\n",
    "    \n",
    "    train_op =tf.group([train_ops[_] for _ in train_ops.keys()])\n",
    "    cost = tf.math.reduce_sum([NN[kk][2] for kk in train_ops.keys()]) #cost_1st+cost_2nd \n",
    "    \n",
    "    # estimator specs for EVAL \n",
    "    if mode == tf.estimator.ModeKeys.EVAL:\n",
    "        return tf.estimator.EstimatorSpec(\n",
    "            mode=mode,\n",
    "            loss=price,\n",
    "            evaluation_hooks=None)\n",
    "       \n",
    "    # estimator specs for PREDICT\n",
    "    if mode == tf.estimator.ModeKeys.PREDICT:\n",
    "        return tf.estimator.EstimatorSpec(\n",
    "                mode=mode,\n",
    "                predictions={\"price\": price})\n",
    "    \n",
    "    # estimator specs for TRAINING\n",
    "    if mode == tf.estimator.ModeKeys.TRAIN:\n",
    "        return tf.estimator.EstimatorSpec(\n",
    "            mode=mode, \n",
    "            loss= price,  #tf.cond((global_step < 5000), lambda: cost_2nd, lambda: cost_1st), \n",
    "            train_op= tf.group(train_op, update_global_step),\n",
    "            #tf.cond((global_step < 5000), lambda: tf.group(train_op2, update_global_step), \n",
    "                     #       lambda: tf.group(train_op1, update_global_step)),#tf.group(train_op, update_global_step), \n",
    "            training_hooks=None)"
   ]
  },
  {
   "cell_type": "markdown",
   "metadata": {
    "nbpresent": {
     "id": "aa25c9f7-6a01-4743-a0ab-e107e44a93c5"
    }
   },
   "source": [
    "#### Setting up the estimator"
   ]
  },
  {
   "cell_type": "code",
   "execution_count": 7,
   "metadata": {
    "nbpresent": {
     "id": "05ccf630-f923-4397-a1ee-0900f48b0d0a"
    }
   },
   "outputs": [],
   "source": [
    "#MODEL_DIR = '/Users/Cellini/Desktop/Quant/DL Udacity/DLexs/Estimator'"
   ]
  },
  {
   "cell_type": "code",
   "execution_count": 8,
   "metadata": {
    "nbpresent": {
     "id": "ea137665-bf31-431f-87fb-8bb13c3a0e14"
    }
   },
   "outputs": [
    {
     "name": "stdout",
     "output_type": "stream",
     "text": [
      "INFO:tensorflow:Using default config.\n",
      "WARNING:tensorflow:Using temporary folder as model directory: /var/folders/16/6vfzqvh50sv0n670v2qmktsw0000gn/T/tmpuamqjgqs\n",
      "INFO:tensorflow:Using config: {'_model_dir': '/var/folders/16/6vfzqvh50sv0n670v2qmktsw0000gn/T/tmpuamqjgqs', '_tf_random_seed': None, '_save_summary_steps': 100, '_save_checkpoints_steps': None, '_save_checkpoints_secs': 600, '_session_config': allow_soft_placement: true\n",
      "graph_options {\n",
      "  rewrite_options {\n",
      "    meta_optimizer_iterations: ONE\n",
      "  }\n",
      "}\n",
      ", '_keep_checkpoint_max': 5, '_keep_checkpoint_every_n_hours': 10000, '_log_step_count_steps': 100, '_train_distribute': None, '_device_fn': None, '_protocol': None, '_eval_distribute': None, '_experimental_distribute': None, '_service': None, '_cluster_spec': <tensorflow.python.training.server_lib.ClusterSpec object at 0x6365f5c18>, '_task_type': 'worker', '_task_id': 0, '_global_id_in_cluster': 0, '_master': '', '_evaluation_master': '', '_is_chief': True, '_num_ps_replicas': 0, '_num_worker_replicas': 1}\n",
      "WARNING:tensorflow:Estimator's model_fn (<function my_model_fn at 0x638973f28>) includes params argument, but params are not passed to Estimator.\n"
     ]
    }
   ],
   "source": [
    "nn = tf.estimator.Estimator(model_fn=my_model_fn) #, model_dir=MODEL_DIR)"
   ]
  },
  {
   "cell_type": "code",
   "execution_count": 9,
   "metadata": {
    "nbpresent": {
     "id": "b1c26592-1f83-446a-9d11-20a4297b644b"
    }
   },
   "outputs": [
    {
     "name": "stdout",
     "output_type": "stream",
     "text": [
      "WARNING:tensorflow:From /Users/Cellini/anaconda2/envs/DLexs/lib/python3.7/site-packages/tensorflow/python/framework/op_def_library.py:263: colocate_with (from tensorflow.python.framework.ops) is deprecated and will be removed in a future version.\n",
      "Instructions for updating:\n",
      "Colocations handled automatically by placer.\n",
      "WARNING:tensorflow:From /Users/Cellini/anaconda2/envs/DLexs/lib/python3.7/site-packages/tensorflow_estimator/python/estimator/inputs/queues/feeding_queue_runner.py:62: QueueRunner.__init__ (from tensorflow.python.training.queue_runner_impl) is deprecated and will be removed in a future version.\n",
      "Instructions for updating:\n",
      "To construct input pipelines, use the `tf.data` module.\n",
      "WARNING:tensorflow:From /Users/Cellini/anaconda2/envs/DLexs/lib/python3.7/site-packages/tensorflow_estimator/python/estimator/inputs/queues/feeding_functions.py:500: add_queue_runner (from tensorflow.python.training.queue_runner_impl) is deprecated and will be removed in a future version.\n",
      "Instructions for updating:\n",
      "To construct input pipelines, use the `tf.data` module.\n",
      "INFO:tensorflow:Calling model_fn.\n",
      "WARNING:tensorflow:From <ipython-input-5-192b3b4e228d>:14: dense (from tensorflow.python.layers.core) is deprecated and will be removed in a future version.\n",
      "Instructions for updating:\n",
      "Use keras.layers.dense instead.\n",
      "INFO:tensorflow:Done calling model_fn.\n",
      "INFO:tensorflow:Create CheckpointSaverHook.\n",
      "INFO:tensorflow:Graph was finalized.\n",
      "INFO:tensorflow:Running local_init_op.\n",
      "INFO:tensorflow:Done running local_init_op.\n",
      "WARNING:tensorflow:From /Users/Cellini/anaconda2/envs/DLexs/lib/python3.7/site-packages/tensorflow/python/training/monitored_session.py:809: start_queue_runners (from tensorflow.python.training.queue_runner_impl) is deprecated and will be removed in a future version.\n",
      "Instructions for updating:\n",
      "To construct input pipelines, use the `tf.data` module.\n",
      "INFO:tensorflow:Saving checkpoints for 0 into /var/folders/16/6vfzqvh50sv0n670v2qmktsw0000gn/T/tmpuamqjgqs/model.ckpt.\n",
      "INFO:tensorflow:loss = 3.34375, step = 1\n",
      "INFO:tensorflow:global_step/sec: 43.0429\n",
      "INFO:tensorflow:loss = 3.890625, step = 101 (2.324 sec)\n",
      "INFO:tensorflow:global_step/sec: 232.612\n",
      "INFO:tensorflow:loss = 4.5, step = 201 (0.430 sec)\n",
      "INFO:tensorflow:global_step/sec: 173.666\n",
      "INFO:tensorflow:loss = 4.46875, step = 301 (0.576 sec)\n",
      "INFO:tensorflow:global_step/sec: 221.215\n",
      "INFO:tensorflow:loss = 4.625, step = 401 (0.452 sec)\n",
      "INFO:tensorflow:global_step/sec: 219.251\n",
      "INFO:tensorflow:loss = 4.546875, step = 501 (0.456 sec)\n",
      "INFO:tensorflow:global_step/sec: 211.076\n",
      "INFO:tensorflow:loss = 4.65625, step = 601 (0.474 sec)\n",
      "INFO:tensorflow:global_step/sec: 191.409\n",
      "INFO:tensorflow:loss = 4.578125, step = 701 (0.523 sec)\n",
      "INFO:tensorflow:global_step/sec: 200.746\n",
      "INFO:tensorflow:loss = 4.71875, step = 801 (0.498 sec)\n",
      "INFO:tensorflow:global_step/sec: 221.002\n",
      "INFO:tensorflow:loss = 4.53125, step = 901 (0.452 sec)\n",
      "INFO:tensorflow:global_step/sec: 187.815\n",
      "INFO:tensorflow:loss = 4.375, step = 1001 (0.533 sec)\n",
      "INFO:tensorflow:global_step/sec: 138.153\n",
      "INFO:tensorflow:loss = 4.296875, step = 1101 (0.724 sec)\n",
      "INFO:tensorflow:global_step/sec: 222.31\n",
      "INFO:tensorflow:loss = 4.84375, step = 1201 (0.450 sec)\n",
      "INFO:tensorflow:global_step/sec: 223.855\n",
      "INFO:tensorflow:loss = 4.375, step = 1301 (0.447 sec)\n",
      "INFO:tensorflow:global_step/sec: 150.539\n",
      "INFO:tensorflow:loss = 4.640625, step = 1401 (0.665 sec)\n",
      "INFO:tensorflow:global_step/sec: 162.53\n",
      "INFO:tensorflow:loss = 4.6875, step = 1501 (0.614 sec)\n",
      "INFO:tensorflow:global_step/sec: 212.91\n",
      "INFO:tensorflow:loss = 4.359375, step = 1601 (0.470 sec)\n",
      "INFO:tensorflow:global_step/sec: 221.779\n",
      "INFO:tensorflow:loss = 4.84375, step = 1701 (0.451 sec)\n",
      "INFO:tensorflow:global_step/sec: 222.473\n",
      "INFO:tensorflow:loss = 4.609375, step = 1801 (0.449 sec)\n",
      "INFO:tensorflow:global_step/sec: 168.241\n",
      "INFO:tensorflow:loss = 4.734375, step = 1901 (0.594 sec)\n",
      "INFO:tensorflow:global_step/sec: 177.515\n",
      "INFO:tensorflow:loss = 4.484375, step = 2001 (0.563 sec)\n",
      "INFO:tensorflow:global_step/sec: 227.711\n",
      "INFO:tensorflow:loss = 4.875, step = 2101 (0.439 sec)\n",
      "INFO:tensorflow:global_step/sec: 155.982\n",
      "INFO:tensorflow:loss = 4.5625, step = 2201 (0.641 sec)\n",
      "INFO:tensorflow:global_step/sec: 165.811\n",
      "INFO:tensorflow:loss = 4.6875, step = 2301 (0.603 sec)\n",
      "INFO:tensorflow:global_step/sec: 197.217\n",
      "INFO:tensorflow:loss = 4.765625, step = 2401 (0.507 sec)\n",
      "INFO:tensorflow:global_step/sec: 223.366\n",
      "INFO:tensorflow:loss = 4.8125, step = 2501 (0.448 sec)\n",
      "INFO:tensorflow:global_step/sec: 223.676\n",
      "INFO:tensorflow:loss = 4.5, step = 2601 (0.447 sec)\n",
      "INFO:tensorflow:global_step/sec: 173.689\n",
      "INFO:tensorflow:loss = 4.671875, step = 2701 (0.576 sec)\n",
      "INFO:tensorflow:global_step/sec: 222.163\n",
      "INFO:tensorflow:loss = 4.546875, step = 2801 (0.450 sec)\n",
      "INFO:tensorflow:global_step/sec: 222.359\n",
      "INFO:tensorflow:loss = 4.46875, step = 2901 (0.450 sec)\n",
      "INFO:tensorflow:global_step/sec: 217.656\n",
      "INFO:tensorflow:loss = 4.703125, step = 3001 (0.460 sec)\n",
      "INFO:tensorflow:global_step/sec: 168.195\n",
      "INFO:tensorflow:loss = 4.546875, step = 3101 (0.594 sec)\n",
      "INFO:tensorflow:global_step/sec: 216.715\n",
      "INFO:tensorflow:loss = 4.546875, step = 3201 (0.461 sec)\n",
      "INFO:tensorflow:global_step/sec: 217.368\n",
      "INFO:tensorflow:loss = 5.03125, step = 3301 (0.460 sec)\n",
      "INFO:tensorflow:global_step/sec: 215.586\n",
      "INFO:tensorflow:loss = 4.890625, step = 3401 (0.464 sec)\n",
      "INFO:tensorflow:global_step/sec: 131.888\n",
      "INFO:tensorflow:loss = 4.265625, step = 3501 (0.758 sec)\n",
      "INFO:tensorflow:global_step/sec: 151.735\n",
      "INFO:tensorflow:loss = 4.46875, step = 3601 (0.659 sec)\n",
      "INFO:tensorflow:global_step/sec: 207.448\n",
      "INFO:tensorflow:loss = 4.921875, step = 3701 (0.482 sec)\n",
      "INFO:tensorflow:global_step/sec: 198.763\n",
      "INFO:tensorflow:loss = 4.765625, step = 3801 (0.503 sec)\n",
      "INFO:tensorflow:global_step/sec: 176.898\n",
      "INFO:tensorflow:loss = 4.484375, step = 3901 (0.565 sec)\n",
      "INFO:tensorflow:global_step/sec: 172.349\n",
      "INFO:tensorflow:loss = 4.8125, step = 4001 (0.580 sec)\n",
      "INFO:tensorflow:global_step/sec: 169.505\n",
      "INFO:tensorflow:loss = 4.8125, step = 4101 (0.590 sec)\n",
      "INFO:tensorflow:global_step/sec: 138.649\n",
      "INFO:tensorflow:loss = 4.765625, step = 4201 (0.721 sec)\n",
      "INFO:tensorflow:global_step/sec: 199.439\n",
      "INFO:tensorflow:loss = 4.65625, step = 4301 (0.501 sec)\n",
      "INFO:tensorflow:global_step/sec: 197.429\n",
      "INFO:tensorflow:loss = 4.765625, step = 4401 (0.507 sec)\n",
      "INFO:tensorflow:global_step/sec: 207.685\n",
      "INFO:tensorflow:loss = 4.640625, step = 4501 (0.481 sec)\n",
      "INFO:tensorflow:global_step/sec: 157.751\n",
      "INFO:tensorflow:loss = 4.65625, step = 4601 (0.634 sec)\n",
      "INFO:tensorflow:global_step/sec: 209.174\n",
      "INFO:tensorflow:loss = 4.5, step = 4701 (0.478 sec)\n",
      "INFO:tensorflow:global_step/sec: 210.079\n",
      "INFO:tensorflow:loss = 4.765625, step = 4801 (0.476 sec)\n",
      "INFO:tensorflow:global_step/sec: 198.867\n",
      "INFO:tensorflow:loss = 4.96875, step = 4901 (0.502 sec)\n",
      "INFO:tensorflow:global_step/sec: 169.431\n",
      "INFO:tensorflow:loss = 4.640625, step = 5001 (0.590 sec)\n",
      "INFO:tensorflow:global_step/sec: 210.794\n",
      "INFO:tensorflow:loss = 4.515625, step = 5101 (0.474 sec)\n",
      "INFO:tensorflow:global_step/sec: 203.309\n",
      "INFO:tensorflow:loss = 4.859375, step = 5201 (0.492 sec)\n",
      "INFO:tensorflow:global_step/sec: 215.008\n",
      "INFO:tensorflow:loss = 4.609375, step = 5301 (0.465 sec)\n",
      "INFO:tensorflow:global_step/sec: 173.453\n",
      "INFO:tensorflow:loss = 4.71875, step = 5401 (0.577 sec)\n",
      "INFO:tensorflow:global_step/sec: 197.575\n",
      "INFO:tensorflow:loss = 4.484375, step = 5501 (0.506 sec)\n",
      "INFO:tensorflow:global_step/sec: 215.309\n",
      "INFO:tensorflow:loss = 4.640625, step = 5601 (0.464 sec)\n",
      "INFO:tensorflow:global_step/sec: 208.825\n",
      "INFO:tensorflow:loss = 4.921875, step = 5701 (0.479 sec)\n",
      "INFO:tensorflow:global_step/sec: 164.387\n",
      "INFO:tensorflow:loss = 4.6875, step = 5801 (0.608 sec)\n",
      "INFO:tensorflow:global_step/sec: 218.104\n",
      "INFO:tensorflow:loss = 4.484375, step = 5901 (0.459 sec)\n",
      "INFO:tensorflow:global_step/sec: 221.567\n",
      "INFO:tensorflow:loss = 4.703125, step = 6001 (0.451 sec)\n",
      "INFO:tensorflow:global_step/sec: 211.985\n",
      "INFO:tensorflow:loss = 4.640625, step = 6101 (0.472 sec)\n",
      "INFO:tensorflow:global_step/sec: 161.215\n",
      "INFO:tensorflow:loss = 4.65625, step = 6201 (0.620 sec)\n",
      "INFO:tensorflow:global_step/sec: 214.461\n",
      "INFO:tensorflow:loss = 4.875, step = 6301 (0.466 sec)\n",
      "INFO:tensorflow:global_step/sec: 217.417\n",
      "INFO:tensorflow:loss = 4.484375, step = 6401 (0.460 sec)\n"
     ]
    },
    {
     "name": "stdout",
     "output_type": "stream",
     "text": [
      "INFO:tensorflow:global_step/sec: 214.125\n",
      "INFO:tensorflow:loss = 4.703125, step = 6501 (0.467 sec)\n",
      "INFO:tensorflow:global_step/sec: 168.875\n",
      "INFO:tensorflow:loss = 4.765625, step = 6601 (0.592 sec)\n",
      "INFO:tensorflow:global_step/sec: 217.376\n",
      "INFO:tensorflow:loss = 4.796875, step = 6701 (0.460 sec)\n",
      "INFO:tensorflow:global_step/sec: 221.758\n",
      "INFO:tensorflow:loss = 4.953125, step = 6801 (0.451 sec)\n",
      "INFO:tensorflow:global_step/sec: 162.37\n",
      "INFO:tensorflow:loss = 4.78125, step = 6901 (0.616 sec)\n",
      "INFO:tensorflow:global_step/sec: 160.999\n",
      "INFO:tensorflow:loss = 4.78125, step = 7001 (0.621 sec)\n",
      "INFO:tensorflow:global_step/sec: 223.171\n",
      "INFO:tensorflow:loss = 4.921875, step = 7101 (0.448 sec)\n",
      "INFO:tensorflow:global_step/sec: 222.77\n",
      "INFO:tensorflow:loss = 4.890625, step = 7201 (0.449 sec)\n",
      "INFO:tensorflow:global_step/sec: 218.547\n",
      "INFO:tensorflow:loss = 4.40625, step = 7301 (0.458 sec)\n",
      "INFO:tensorflow:global_step/sec: 173.464\n",
      "INFO:tensorflow:loss = 4.671875, step = 7401 (0.576 sec)\n",
      "INFO:tensorflow:global_step/sec: 223.401\n",
      "INFO:tensorflow:loss = 4.546875, step = 7501 (0.448 sec)\n",
      "INFO:tensorflow:global_step/sec: 217.864\n",
      "INFO:tensorflow:loss = 4.78125, step = 7601 (0.459 sec)\n",
      "INFO:tensorflow:global_step/sec: 190.842\n",
      "INFO:tensorflow:loss = 4.359375, step = 7701 (0.524 sec)\n",
      "INFO:tensorflow:global_step/sec: 134.243\n",
      "INFO:tensorflow:loss = 4.65625, step = 7801 (0.745 sec)\n",
      "INFO:tensorflow:global_step/sec: 188.411\n",
      "INFO:tensorflow:loss = 4.515625, step = 7901 (0.531 sec)\n",
      "INFO:tensorflow:global_step/sec: 193.492\n",
      "INFO:tensorflow:loss = 4.828125, step = 8001 (0.517 sec)\n",
      "INFO:tensorflow:global_step/sec: 183.754\n",
      "INFO:tensorflow:loss = 4.59375, step = 8101 (0.545 sec)\n",
      "INFO:tensorflow:global_step/sec: 158.319\n",
      "INFO:tensorflow:loss = 4.59375, step = 8201 (0.630 sec)\n",
      "INFO:tensorflow:global_step/sec: 197.394\n",
      "INFO:tensorflow:loss = 4.234375, step = 8301 (0.507 sec)\n",
      "INFO:tensorflow:global_step/sec: 214.916\n",
      "INFO:tensorflow:loss = 4.921875, step = 8401 (0.465 sec)\n",
      "INFO:tensorflow:global_step/sec: 211.2\n",
      "INFO:tensorflow:loss = 4.796875, step = 8501 (0.474 sec)\n",
      "INFO:tensorflow:global_step/sec: 159.732\n",
      "INFO:tensorflow:loss = 4.8125, step = 8601 (0.626 sec)\n",
      "INFO:tensorflow:global_step/sec: 212\n",
      "INFO:tensorflow:loss = 4.53125, step = 8701 (0.472 sec)\n",
      "INFO:tensorflow:global_step/sec: 201.94\n",
      "INFO:tensorflow:loss = 4.84375, step = 8801 (0.495 sec)\n",
      "INFO:tensorflow:global_step/sec: 184.932\n",
      "INFO:tensorflow:loss = 4.6875, step = 8901 (0.541 sec)\n",
      "INFO:tensorflow:global_step/sec: 144.629\n",
      "INFO:tensorflow:loss = 4.703125, step = 9001 (0.691 sec)\n",
      "INFO:tensorflow:global_step/sec: 208.24\n",
      "INFO:tensorflow:loss = 4.921875, step = 9101 (0.480 sec)\n",
      "INFO:tensorflow:global_step/sec: 215.17\n",
      "INFO:tensorflow:loss = 4.546875, step = 9201 (0.465 sec)\n",
      "INFO:tensorflow:global_step/sec: 155.21\n",
      "INFO:tensorflow:loss = 4.96875, step = 9301 (0.644 sec)\n",
      "INFO:tensorflow:global_step/sec: 212.774\n",
      "INFO:tensorflow:loss = 4.421875, step = 9401 (0.470 sec)\n",
      "INFO:tensorflow:global_step/sec: 166.37\n",
      "INFO:tensorflow:loss = 4.859375, step = 9501 (0.601 sec)\n",
      "INFO:tensorflow:global_step/sec: 153.517\n",
      "INFO:tensorflow:loss = 4.640625, step = 9601 (0.653 sec)\n",
      "INFO:tensorflow:global_step/sec: 159.676\n",
      "INFO:tensorflow:loss = 5.03125, step = 9701 (0.625 sec)\n",
      "INFO:tensorflow:global_step/sec: 205.863\n",
      "INFO:tensorflow:loss = 4.546875, step = 9801 (0.486 sec)\n",
      "INFO:tensorflow:global_step/sec: 213.298\n",
      "INFO:tensorflow:loss = 4.5625, step = 9901 (0.469 sec)\n",
      "INFO:tensorflow:global_step/sec: 215.78\n",
      "INFO:tensorflow:loss = 4.703125, step = 10001 (0.464 sec)\n",
      "INFO:tensorflow:global_step/sec: 170.958\n",
      "INFO:tensorflow:loss = 4.640625, step = 10101 (0.585 sec)\n",
      "INFO:tensorflow:global_step/sec: 215.464\n",
      "INFO:tensorflow:loss = 4.75, step = 10201 (0.464 sec)\n",
      "INFO:tensorflow:global_step/sec: 216.611\n",
      "INFO:tensorflow:loss = 4.75, step = 10301 (0.462 sec)\n",
      "INFO:tensorflow:global_step/sec: 215.82\n",
      "INFO:tensorflow:loss = 4.9375, step = 10401 (0.464 sec)\n",
      "INFO:tensorflow:global_step/sec: 154.552\n",
      "INFO:tensorflow:loss = 4.71875, step = 10501 (0.647 sec)\n",
      "INFO:tensorflow:global_step/sec: 207.967\n",
      "INFO:tensorflow:loss = 4.609375, step = 10601 (0.481 sec)\n",
      "INFO:tensorflow:global_step/sec: 219.431\n",
      "INFO:tensorflow:loss = 4.5, step = 10701 (0.456 sec)\n",
      "INFO:tensorflow:global_step/sec: 217.705\n",
      "INFO:tensorflow:loss = 4.4375, step = 10801 (0.459 sec)\n",
      "INFO:tensorflow:global_step/sec: 164.371\n",
      "INFO:tensorflow:loss = 4.671875, step = 10901 (0.608 sec)\n",
      "INFO:tensorflow:global_step/sec: 215.535\n",
      "INFO:tensorflow:loss = 4.8125, step = 11001 (0.464 sec)\n",
      "INFO:tensorflow:global_step/sec: 218.056\n",
      "INFO:tensorflow:loss = 4.609375, step = 11101 (0.459 sec)\n",
      "INFO:tensorflow:global_step/sec: 214.431\n",
      "INFO:tensorflow:loss = 4.6875, step = 11201 (0.466 sec)\n",
      "INFO:tensorflow:global_step/sec: 169.9\n",
      "INFO:tensorflow:loss = 4.84375, step = 11301 (0.589 sec)\n",
      "INFO:tensorflow:global_step/sec: 215.916\n",
      "INFO:tensorflow:loss = 4.390625, step = 11401 (0.463 sec)\n",
      "INFO:tensorflow:global_step/sec: 216.033\n",
      "INFO:tensorflow:loss = 4.484375, step = 11501 (0.463 sec)\n",
      "INFO:tensorflow:global_step/sec: 215.487\n",
      "INFO:tensorflow:loss = 4.71875, step = 11601 (0.464 sec)\n",
      "INFO:tensorflow:global_step/sec: 170.724\n",
      "INFO:tensorflow:loss = 4.84375, step = 11701 (0.586 sec)\n",
      "INFO:tensorflow:Saving checkpoints for 11720 into /var/folders/16/6vfzqvh50sv0n670v2qmktsw0000gn/T/tmpuamqjgqs/model.ckpt.\n",
      "INFO:tensorflow:Loss for final step: 4.5625.\n"
     ]
    },
    {
     "data": {
      "text/plain": [
       "<tensorflow_estimator.python.estimator.estimator.Estimator at 0x6365f5a20>"
      ]
     },
     "execution_count": 9,
     "metadata": {},
     "output_type": "execute_result"
    }
   ],
   "source": [
    "# training\n",
    "nn.train(input_fn=numpy_train_input_fn(dice_3), steps=20000)"
   ]
  },
  {
   "cell_type": "code",
   "execution_count": 10,
   "metadata": {
    "nbpresent": {
     "id": "eea1ba4c-c56d-4415-8f7d-1a4e2b8d5fe2"
    }
   },
   "outputs": [
    {
     "name": "stdout",
     "output_type": "stream",
     "text": [
      "INFO:tensorflow:Calling model_fn.\n",
      "INFO:tensorflow:Done calling model_fn.\n",
      "WARNING:tensorflow:From /Users/Cellini/anaconda2/envs/DLexs/lib/python3.7/site-packages/tensorflow/python/ops/metrics_impl.py:363: to_float (from tensorflow.python.ops.math_ops) is deprecated and will be removed in a future version.\n",
      "Instructions for updating:\n",
      "Use tf.cast instead.\n",
      "INFO:tensorflow:Starting evaluation at 2019-10-06T17:47:03Z\n",
      "INFO:tensorflow:Graph was finalized.\n",
      "WARNING:tensorflow:From /Users/Cellini/anaconda2/envs/DLexs/lib/python3.7/site-packages/tensorflow/python/training/saver.py:1266: checkpoint_exists (from tensorflow.python.training.checkpoint_management) is deprecated and will be removed in a future version.\n",
      "Instructions for updating:\n",
      "Use standard file APIs to check for files with this prefix.\n",
      "INFO:tensorflow:Restoring parameters from /var/folders/16/6vfzqvh50sv0n670v2qmktsw0000gn/T/tmpuamqjgqs/model.ckpt-11720\n",
      "INFO:tensorflow:Running local_init_op.\n",
      "INFO:tensorflow:Done running local_init_op.\n",
      "INFO:tensorflow:Finished evaluation at 2019-10-06-17:47:05\n",
      "INFO:tensorflow:Saving dict for global step 11720: global_step = 11720, loss = 4.6749\n",
      "INFO:tensorflow:Saving 'checkpoint_path' summary for global step 11720: /var/folders/16/6vfzqvh50sv0n670v2qmktsw0000gn/T/tmpuamqjgqs/model.ckpt-11720\n",
      "Price: 4.6749\n"
     ]
    }
   ],
   "source": [
    "# evaluation\n",
    "ev = nn.evaluate(input_fn=numpy_eval_input_fn(dice_3))\n",
    "print(\"Price: %s\" % ev[\"loss\"])\n"
   ]
  },
  {
   "cell_type": "markdown",
   "metadata": {
    "nbpresent": {
     "id": "1ec80917-86cf-47e6-81e2-6d765e42d00d"
    }
   },
   "source": [
    "#### Result for the $M \\times 3$ case\n",
    "The solver should produce a result around $4.6\\dots$, which is close to the analytical solution $28/6\\approx 4.66$. Evaluating the trained model on a separate, similarly sized sample, the result should be reasonably close, $4.6\\dots$, to the result obtained on the training sample."
   ]
  },
  {
   "cell_type": "code",
   "execution_count": 11,
   "metadata": {
    "nbpresent": {
     "id": "802163de-cc1d-463d-8317-584eed6407e6"
    }
   },
   "outputs": [],
   "source": [
    "# Create a separate sample for evaluation\n",
    "dice_3_eval = np.random.randint(low=1, high=7, size=(M, 3))"
   ]
  },
  {
   "cell_type": "code",
   "execution_count": 12,
   "metadata": {
    "nbpresent": {
     "id": "b2533218-f660-4f5d-9fc8-ba216291eb07"
    }
   },
   "outputs": [
    {
     "name": "stdout",
     "output_type": "stream",
     "text": [
      "INFO:tensorflow:Calling model_fn.\n",
      "INFO:tensorflow:Done calling model_fn.\n",
      "INFO:tensorflow:Starting evaluation at 2019-10-06T17:47:11Z\n",
      "INFO:tensorflow:Graph was finalized.\n",
      "INFO:tensorflow:Restoring parameters from /var/folders/16/6vfzqvh50sv0n670v2qmktsw0000gn/T/tmpuamqjgqs/model.ckpt-11720\n",
      "INFO:tensorflow:Running local_init_op.\n",
      "INFO:tensorflow:Done running local_init_op.\n",
      "INFO:tensorflow:Finished evaluation at 2019-10-06-17:47:13\n",
      "INFO:tensorflow:Saving dict for global step 11720: global_step = 11720, loss = 4.657015\n",
      "INFO:tensorflow:Saving 'checkpoint_path' summary for global step 11720: /var/folders/16/6vfzqvh50sv0n670v2qmktsw0000gn/T/tmpuamqjgqs/model.ckpt-11720\n",
      "Price: 4.657015\n"
     ]
    }
   ],
   "source": [
    "# Use the evaluation sample to get the price\n",
    "ev_ck = nn.evaluate(input_fn=numpy_eval_input_fn(dice_3_eval))\n",
    "print(\"Price: %s\" % ev_ck[\"loss\"])\n"
   ]
  },
  {
   "cell_type": "markdown",
   "metadata": {},
   "source": [
    "#### Do the same for the $M \\times 5$ case"
   ]
  },
  {
   "cell_type": "code",
   "execution_count": 13,
   "metadata": {
    "nbpresent": {
     "id": "194d0ffe-bbfc-4bd2-ab6e-7518f13dd6da"
    }
   },
   "outputs": [
    {
     "name": "stdout",
     "output_type": "stream",
     "text": [
      "INFO:tensorflow:Using default config.\n",
      "WARNING:tensorflow:Using temporary folder as model directory: /var/folders/16/6vfzqvh50sv0n670v2qmktsw0000gn/T/tmp8ggnrjxu\n",
      "INFO:tensorflow:Using config: {'_model_dir': '/var/folders/16/6vfzqvh50sv0n670v2qmktsw0000gn/T/tmp8ggnrjxu', '_tf_random_seed': None, '_save_summary_steps': 100, '_save_checkpoints_steps': None, '_save_checkpoints_secs': 600, '_session_config': allow_soft_placement: true\n",
      "graph_options {\n",
      "  rewrite_options {\n",
      "    meta_optimizer_iterations: ONE\n",
      "  }\n",
      "}\n",
      ", '_keep_checkpoint_max': 5, '_keep_checkpoint_every_n_hours': 10000, '_log_step_count_steps': 100, '_train_distribute': None, '_device_fn': None, '_protocol': None, '_eval_distribute': None, '_experimental_distribute': None, '_service': None, '_cluster_spec': <tensorflow.python.training.server_lib.ClusterSpec object at 0x638efea58>, '_task_type': 'worker', '_task_id': 0, '_global_id_in_cluster': 0, '_master': '', '_evaluation_master': '', '_is_chief': True, '_num_ps_replicas': 0, '_num_worker_replicas': 1}\n",
      "WARNING:tensorflow:Estimator's model_fn (<function my_model_fn at 0x638973f28>) includes params argument, but params are not passed to Estimator.\n"
     ]
    }
   ],
   "source": [
    "nn5 = tf.estimator.Estimator(model_fn=my_model_fn)"
   ]
  },
  {
   "cell_type": "code",
   "execution_count": 14,
   "metadata": {
    "nbpresent": {
     "id": "e85c96b8-2006-4e95-957e-f599e23658be"
    },
    "scrolled": true
   },
   "outputs": [
    {
     "name": "stdout",
     "output_type": "stream",
     "text": [
      "INFO:tensorflow:Calling model_fn.\n",
      "INFO:tensorflow:Done calling model_fn.\n",
      "INFO:tensorflow:Create CheckpointSaverHook.\n",
      "INFO:tensorflow:Graph was finalized.\n",
      "INFO:tensorflow:Running local_init_op.\n",
      "INFO:tensorflow:Done running local_init_op.\n",
      "INFO:tensorflow:Saving checkpoints for 0 into /var/folders/16/6vfzqvh50sv0n670v2qmktsw0000gn/T/tmp8ggnrjxu/model.ckpt.\n",
      "INFO:tensorflow:loss = 3.65625, step = 1\n",
      "INFO:tensorflow:global_step/sec: 50.9263\n",
      "INFO:tensorflow:loss = 4.0625, step = 101 (1.965 sec)\n",
      "INFO:tensorflow:global_step/sec: 151.818\n",
      "INFO:tensorflow:loss = 5.078125, step = 201 (0.659 sec)\n",
      "INFO:tensorflow:global_step/sec: 154.014\n",
      "INFO:tensorflow:loss = 5.0, step = 301 (0.649 sec)\n",
      "INFO:tensorflow:global_step/sec: 106.546\n",
      "INFO:tensorflow:loss = 5.203125, step = 401 (0.939 sec)\n",
      "INFO:tensorflow:global_step/sec: 150.045\n",
      "INFO:tensorflow:loss = 5.09375, step = 501 (0.666 sec)\n",
      "INFO:tensorflow:global_step/sec: 100.428\n",
      "INFO:tensorflow:loss = 5.1875, step = 601 (0.996 sec)\n",
      "INFO:tensorflow:global_step/sec: 143.505\n",
      "INFO:tensorflow:loss = 5.15625, step = 701 (0.697 sec)\n",
      "INFO:tensorflow:global_step/sec: 157.856\n",
      "INFO:tensorflow:loss = 5.0625, step = 801 (0.634 sec)\n",
      "INFO:tensorflow:global_step/sec: 107.91\n",
      "INFO:tensorflow:loss = 5.0625, step = 901 (0.927 sec)\n",
      "INFO:tensorflow:global_step/sec: 149.244\n",
      "INFO:tensorflow:loss = 5.25, step = 1001 (0.670 sec)\n",
      "INFO:tensorflow:global_step/sec: 25.1034\n",
      "INFO:tensorflow:loss = 5.203125, step = 1101 (3.982 sec)\n",
      "INFO:tensorflow:global_step/sec: 133.879\n",
      "INFO:tensorflow:loss = 4.984375, step = 1201 (0.747 sec)\n",
      "INFO:tensorflow:global_step/sec: 107.263\n",
      "INFO:tensorflow:loss = 5.0625, step = 1301 (0.932 sec)\n",
      "INFO:tensorflow:global_step/sec: 145.304\n",
      "INFO:tensorflow:loss = 5.125, step = 1401 (0.688 sec)\n",
      "INFO:tensorflow:global_step/sec: 146.852\n",
      "INFO:tensorflow:loss = 5.203125, step = 1501 (0.681 sec)\n",
      "INFO:tensorflow:global_step/sec: 105.718\n",
      "INFO:tensorflow:loss = 4.984375, step = 1601 (0.946 sec)\n",
      "INFO:tensorflow:global_step/sec: 143.603\n",
      "INFO:tensorflow:loss = 5.015625, step = 1701 (0.696 sec)\n",
      "INFO:tensorflow:global_step/sec: 117.876\n",
      "INFO:tensorflow:loss = 5.265625, step = 1801 (0.851 sec)\n",
      "INFO:tensorflow:global_step/sec: 116.139\n",
      "INFO:tensorflow:loss = 5.15625, step = 1901 (0.859 sec)\n",
      "INFO:tensorflow:global_step/sec: 96.1351\n",
      "INFO:tensorflow:loss = 4.9375, step = 2001 (1.040 sec)\n",
      "INFO:tensorflow:global_step/sec: 134.118\n",
      "INFO:tensorflow:loss = 5.359375, step = 2101 (0.746 sec)\n",
      "INFO:tensorflow:global_step/sec: 133.121\n",
      "INFO:tensorflow:loss = 5.265625, step = 2201 (0.751 sec)\n",
      "INFO:tensorflow:global_step/sec: 116.963\n",
      "INFO:tensorflow:loss = 5.171875, step = 2301 (0.855 sec)\n",
      "INFO:tensorflow:global_step/sec: 139.243\n",
      "INFO:tensorflow:loss = 5.125, step = 2401 (0.718 sec)\n",
      "INFO:tensorflow:global_step/sec: 145.426\n",
      "INFO:tensorflow:loss = 5.046875, step = 2501 (0.688 sec)\n",
      "INFO:tensorflow:global_step/sec: 116.404\n",
      "INFO:tensorflow:loss = 5.203125, step = 2601 (0.859 sec)\n",
      "INFO:tensorflow:global_step/sec: 141.583\n",
      "INFO:tensorflow:loss = 5.234375, step = 2701 (0.706 sec)\n",
      "INFO:tensorflow:global_step/sec: 117.936\n",
      "INFO:tensorflow:loss = 5.09375, step = 2801 (0.848 sec)\n",
      "INFO:tensorflow:global_step/sec: 143.512\n",
      "INFO:tensorflow:loss = 5.140625, step = 2901 (0.697 sec)\n",
      "INFO:tensorflow:global_step/sec: 143.717\n",
      "INFO:tensorflow:loss = 5.15625, step = 3001 (0.696 sec)\n",
      "INFO:tensorflow:global_step/sec: 121.788\n",
      "INFO:tensorflow:loss = 4.984375, step = 3101 (0.821 sec)\n",
      "INFO:tensorflow:global_step/sec: 151.425\n",
      "INFO:tensorflow:loss = 4.96875, step = 3201 (0.660 sec)\n",
      "INFO:tensorflow:global_step/sec: 147.794\n",
      "INFO:tensorflow:loss = 5.25, step = 3301 (0.677 sec)\n",
      "INFO:tensorflow:global_step/sec: 123.652\n",
      "INFO:tensorflow:loss = 5.09375, step = 3401 (0.809 sec)\n",
      "INFO:tensorflow:global_step/sec: 151.883\n",
      "INFO:tensorflow:loss = 5.0, step = 3501 (0.658 sec)\n",
      "INFO:tensorflow:global_step/sec: 150.538\n",
      "INFO:tensorflow:loss = 5.015625, step = 3601 (0.664 sec)\n",
      "INFO:tensorflow:global_step/sec: 122.518\n",
      "INFO:tensorflow:loss = 5.25, step = 3701 (0.816 sec)\n",
      "INFO:tensorflow:global_step/sec: 152.057\n",
      "INFO:tensorflow:loss = 4.828125, step = 3801 (0.658 sec)\n",
      "INFO:tensorflow:global_step/sec: 152.522\n",
      "INFO:tensorflow:loss = 5.140625, step = 3901 (0.656 sec)\n",
      "INFO:tensorflow:global_step/sec: 123.641\n",
      "INFO:tensorflow:loss = 5.125, step = 4001 (0.809 sec)\n",
      "INFO:tensorflow:global_step/sec: 151.524\n",
      "INFO:tensorflow:loss = 5.1875, step = 4101 (0.660 sec)\n",
      "INFO:tensorflow:global_step/sec: 150.289\n",
      "INFO:tensorflow:loss = 5.03125, step = 4201 (0.665 sec)\n",
      "INFO:tensorflow:global_step/sec: 123.776\n",
      "INFO:tensorflow:loss = 4.9375, step = 4301 (0.808 sec)\n",
      "INFO:tensorflow:global_step/sec: 152.376\n",
      "INFO:tensorflow:loss = 5.09375, step = 4401 (0.656 sec)\n",
      "INFO:tensorflow:global_step/sec: 122.402\n",
      "INFO:tensorflow:loss = 5.3125, step = 4501 (0.817 sec)\n",
      "INFO:tensorflow:global_step/sec: 148.38\n",
      "INFO:tensorflow:loss = 5.109375, step = 4601 (0.674 sec)\n",
      "INFO:tensorflow:global_step/sec: 150.366\n",
      "INFO:tensorflow:loss = 5.1875, step = 4701 (0.665 sec)\n",
      "INFO:tensorflow:global_step/sec: 124.955\n",
      "INFO:tensorflow:loss = 5.203125, step = 4801 (0.800 sec)\n",
      "INFO:tensorflow:global_step/sec: 152.116\n",
      "INFO:tensorflow:loss = 5.015625, step = 4901 (0.657 sec)\n",
      "INFO:tensorflow:global_step/sec: 152.518\n",
      "INFO:tensorflow:loss = 5.125, step = 5001 (0.656 sec)\n",
      "INFO:tensorflow:global_step/sec: 124.456\n",
      "INFO:tensorflow:loss = 5.0625, step = 5101 (0.804 sec)\n",
      "INFO:tensorflow:global_step/sec: 151.74\n",
      "INFO:tensorflow:loss = 5.109375, step = 5201 (0.659 sec)\n",
      "INFO:tensorflow:global_step/sec: 151.808\n",
      "INFO:tensorflow:loss = 5.015625, step = 5301 (0.659 sec)\n",
      "INFO:tensorflow:global_step/sec: 121.366\n",
      "INFO:tensorflow:loss = 5.234375, step = 5401 (0.824 sec)\n",
      "INFO:tensorflow:global_step/sec: 152.858\n",
      "INFO:tensorflow:loss = 5.28125, step = 5501 (0.654 sec)\n",
      "INFO:tensorflow:global_step/sec: 152.833\n",
      "INFO:tensorflow:loss = 4.953125, step = 5601 (0.654 sec)\n",
      "INFO:tensorflow:global_step/sec: 125.244\n",
      "INFO:tensorflow:loss = 5.0625, step = 5701 (0.798 sec)\n",
      "INFO:tensorflow:global_step/sec: 152.459\n",
      "INFO:tensorflow:loss = 5.0625, step = 5801 (0.656 sec)\n",
      "INFO:tensorflow:global_step/sec: 152.446\n",
      "INFO:tensorflow:loss = 4.984375, step = 5901 (0.656 sec)\n",
      "INFO:tensorflow:global_step/sec: 122.543\n",
      "INFO:tensorflow:loss = 4.953125, step = 6001 (0.816 sec)\n",
      "INFO:tensorflow:global_step/sec: 149.847\n",
      "INFO:tensorflow:loss = 5.203125, step = 6101 (0.667 sec)\n",
      "INFO:tensorflow:global_step/sec: 147.476\n",
      "INFO:tensorflow:loss = 5.078125, step = 6201 (0.678 sec)\n",
      "INFO:tensorflow:global_step/sec: 118.886\n",
      "INFO:tensorflow:loss = 5.03125, step = 6301 (0.841 sec)\n",
      "INFO:tensorflow:global_step/sec: 151.551\n",
      "INFO:tensorflow:loss = 5.234375, step = 6401 (0.660 sec)\n",
      "INFO:tensorflow:global_step/sec: 108.034\n",
      "INFO:tensorflow:loss = 4.84375, step = 6501 (0.927 sec)\n",
      "INFO:tensorflow:global_step/sec: 120.1\n",
      "INFO:tensorflow:loss = 4.921875, step = 6601 (0.832 sec)\n",
      "INFO:tensorflow:global_step/sec: 129.108\n",
      "INFO:tensorflow:loss = 4.90625, step = 6701 (0.774 sec)\n",
      "INFO:tensorflow:global_step/sec: 111.925\n",
      "INFO:tensorflow:loss = 4.71875, step = 6801 (0.894 sec)\n",
      "INFO:tensorflow:global_step/sec: 114.997\n",
      "INFO:tensorflow:loss = 5.109375, step = 6901 (0.869 sec)\n",
      "INFO:tensorflow:global_step/sec: 117.046\n",
      "INFO:tensorflow:loss = 5.09375, step = 7001 (0.854 sec)\n",
      "INFO:tensorflow:global_step/sec: 136.844\n",
      "INFO:tensorflow:loss = 5.34375, step = 7101 (0.731 sec)\n",
      "INFO:tensorflow:global_step/sec: 126.304\n",
      "INFO:tensorflow:loss = 5.015625, step = 7201 (0.792 sec)\n",
      "INFO:tensorflow:global_step/sec: 105.382\n",
      "INFO:tensorflow:loss = 5.3125, step = 7301 (0.949 sec)\n",
      "INFO:tensorflow:global_step/sec: 139.652\n",
      "INFO:tensorflow:loss = 5.25, step = 7401 (0.716 sec)\n",
      "INFO:tensorflow:global_step/sec: 113.578\n",
      "INFO:tensorflow:loss = 5.28125, step = 7501 (0.881 sec)\n",
      "INFO:tensorflow:global_step/sec: 139.673\n",
      "INFO:tensorflow:loss = 5.203125, step = 7601 (0.716 sec)\n",
      "INFO:tensorflow:global_step/sec: 147.968\n",
      "INFO:tensorflow:loss = 5.015625, step = 7701 (0.676 sec)\n",
      "INFO:tensorflow:global_step/sec: 122.129\n",
      "INFO:tensorflow:loss = 5.046875, step = 7801 (0.819 sec)\n",
      "INFO:tensorflow:global_step/sec: 139.894\n",
      "INFO:tensorflow:loss = 5.265625, step = 7901 (0.715 sec)\n",
      "INFO:tensorflow:global_step/sec: 144.321\n",
      "INFO:tensorflow:loss = 5.140625, step = 8001 (0.693 sec)\n",
      "INFO:tensorflow:global_step/sec: 113.949\n",
      "INFO:tensorflow:loss = 5.203125, step = 8101 (0.878 sec)\n"
     ]
    },
    {
     "name": "stdout",
     "output_type": "stream",
     "text": [
      "INFO:tensorflow:global_step/sec: 138.874\n",
      "INFO:tensorflow:loss = 4.96875, step = 8201 (0.720 sec)\n",
      "INFO:tensorflow:global_step/sec: 114.969\n",
      "INFO:tensorflow:loss = 5.125, step = 8301 (0.870 sec)\n",
      "INFO:tensorflow:global_step/sec: 139.76\n",
      "INFO:tensorflow:loss = 5.296875, step = 8401 (0.716 sec)\n",
      "INFO:tensorflow:global_step/sec: 143.452\n",
      "INFO:tensorflow:loss = 5.03125, step = 8501 (0.697 sec)\n",
      "INFO:tensorflow:global_step/sec: 113.623\n",
      "INFO:tensorflow:loss = 5.15625, step = 8601 (0.880 sec)\n",
      "INFO:tensorflow:global_step/sec: 145.364\n",
      "INFO:tensorflow:loss = 5.09375, step = 8701 (0.688 sec)\n",
      "INFO:tensorflow:global_step/sec: 142.362\n",
      "INFO:tensorflow:loss = 4.96875, step = 8801 (0.703 sec)\n",
      "INFO:tensorflow:global_step/sec: 116.1\n",
      "INFO:tensorflow:loss = 5.109375, step = 8901 (0.861 sec)\n",
      "INFO:tensorflow:global_step/sec: 146.087\n",
      "INFO:tensorflow:loss = 4.953125, step = 9001 (0.685 sec)\n",
      "INFO:tensorflow:global_step/sec: 118.895\n",
      "INFO:tensorflow:loss = 5.15625, step = 9101 (0.841 sec)\n",
      "INFO:tensorflow:global_step/sec: 143.847\n",
      "INFO:tensorflow:loss = 4.984375, step = 9201 (0.695 sec)\n",
      "INFO:tensorflow:global_step/sec: 134.457\n",
      "INFO:tensorflow:loss = 4.921875, step = 9301 (0.744 sec)\n",
      "INFO:tensorflow:global_step/sec: 118.725\n",
      "INFO:tensorflow:loss = 4.71875, step = 9401 (0.842 sec)\n",
      "INFO:tensorflow:global_step/sec: 146.944\n",
      "INFO:tensorflow:loss = 4.953125, step = 9501 (0.680 sec)\n",
      "INFO:tensorflow:global_step/sec: 156.497\n",
      "INFO:tensorflow:loss = 5.234375, step = 9601 (0.639 sec)\n",
      "INFO:tensorflow:global_step/sec: 119.005\n",
      "INFO:tensorflow:loss = 5.109375, step = 9701 (0.840 sec)\n",
      "INFO:tensorflow:global_step/sec: 147.001\n",
      "INFO:tensorflow:loss = 4.984375, step = 9801 (0.680 sec)\n",
      "INFO:tensorflow:global_step/sec: 139.6\n",
      "INFO:tensorflow:loss = 5.328125, step = 9901 (0.716 sec)\n",
      "INFO:tensorflow:global_step/sec: 122.994\n",
      "INFO:tensorflow:loss = 5.25, step = 10001 (0.813 sec)\n",
      "INFO:tensorflow:global_step/sec: 139.607\n",
      "INFO:tensorflow:loss = 5.078125, step = 10101 (0.716 sec)\n",
      "INFO:tensorflow:global_step/sec: 115.613\n",
      "INFO:tensorflow:loss = 5.140625, step = 10201 (0.865 sec)\n",
      "INFO:tensorflow:global_step/sec: 141.891\n",
      "INFO:tensorflow:loss = 4.984375, step = 10301 (0.705 sec)\n",
      "INFO:tensorflow:global_step/sec: 150.561\n",
      "INFO:tensorflow:loss = 5.046875, step = 10401 (0.664 sec)\n",
      "INFO:tensorflow:global_step/sec: 122.61\n",
      "INFO:tensorflow:loss = 5.28125, step = 10501 (0.816 sec)\n",
      "INFO:tensorflow:global_step/sec: 142.359\n",
      "INFO:tensorflow:loss = 5.140625, step = 10601 (0.703 sec)\n",
      "INFO:tensorflow:global_step/sec: 148.345\n",
      "INFO:tensorflow:loss = 5.125, step = 10701 (0.674 sec)\n",
      "INFO:tensorflow:global_step/sec: 124.929\n",
      "INFO:tensorflow:loss = 5.234375, step = 10801 (0.801 sec)\n",
      "INFO:tensorflow:global_step/sec: 153.548\n",
      "INFO:tensorflow:loss = 5.296875, step = 10901 (0.650 sec)\n",
      "INFO:tensorflow:global_step/sec: 151.721\n",
      "INFO:tensorflow:loss = 5.234375, step = 11001 (0.659 sec)\n",
      "INFO:tensorflow:global_step/sec: 126.055\n",
      "INFO:tensorflow:loss = 5.234375, step = 11101 (0.793 sec)\n",
      "INFO:tensorflow:global_step/sec: 139.994\n",
      "INFO:tensorflow:loss = 5.15625, step = 11201 (0.714 sec)\n",
      "INFO:tensorflow:global_step/sec: 146.968\n",
      "INFO:tensorflow:loss = 5.28125, step = 11301 (0.681 sec)\n",
      "INFO:tensorflow:global_step/sec: 122.305\n",
      "INFO:tensorflow:loss = 5.140625, step = 11401 (0.817 sec)\n",
      "INFO:tensorflow:global_step/sec: 148.794\n",
      "INFO:tensorflow:loss = 5.046875, step = 11501 (0.672 sec)\n",
      "INFO:tensorflow:global_step/sec: 149.923\n",
      "INFO:tensorflow:loss = 4.875, step = 11601 (0.667 sec)\n",
      "INFO:tensorflow:global_step/sec: 115.642\n",
      "INFO:tensorflow:loss = 5.234375, step = 11701 (0.865 sec)\n",
      "INFO:tensorflow:Saving checkpoints for 11720 into /var/folders/16/6vfzqvh50sv0n670v2qmktsw0000gn/T/tmp8ggnrjxu/model.ckpt.\n",
      "INFO:tensorflow:Loss for final step: 5.0625.\n"
     ]
    },
    {
     "data": {
      "text/plain": [
       "<tensorflow_estimator.python.estimator.estimator.Estimator at 0x638fd87b8>"
      ]
     },
     "execution_count": 14,
     "metadata": {},
     "output_type": "execute_result"
    }
   ],
   "source": [
    "nn5.train(input_fn=numpy_train_input_fn(dice_5), steps=20000)"
   ]
  },
  {
   "cell_type": "code",
   "execution_count": 15,
   "metadata": {
    "nbpresent": {
     "id": "b897dfd8-052d-4b9a-a9a6-686fc2025c9f"
    }
   },
   "outputs": [
    {
     "name": "stdout",
     "output_type": "stream",
     "text": [
      "INFO:tensorflow:Calling model_fn.\n",
      "INFO:tensorflow:Done calling model_fn.\n",
      "INFO:tensorflow:Starting evaluation at 2019-10-06T17:49:09Z\n",
      "INFO:tensorflow:Graph was finalized.\n",
      "INFO:tensorflow:Restoring parameters from /var/folders/16/6vfzqvh50sv0n670v2qmktsw0000gn/T/tmp8ggnrjxu/model.ckpt-11720\n",
      "INFO:tensorflow:Running local_init_op.\n",
      "INFO:tensorflow:Done running local_init_op.\n",
      "INFO:tensorflow:Finished evaluation at 2019-10-06-17:49:12\n",
      "INFO:tensorflow:Saving dict for global step 11720: global_step = 11720, loss = 5.1303525\n",
      "INFO:tensorflow:Saving 'checkpoint_path' summary for global step 11720: /var/folders/16/6vfzqvh50sv0n670v2qmktsw0000gn/T/tmp8ggnrjxu/model.ckpt-11720\n",
      "Price: 5.1303525\n"
     ]
    }
   ],
   "source": [
    "ev5 = nn5.evaluate(input_fn=numpy_eval_input_fn(dice_5))\n",
    "print(\"Price: %s\" % ev5[\"loss\"])\n"
   ]
  },
  {
   "cell_type": "markdown",
   "metadata": {},
   "source": [
    "#### Result for the $M \\times 5$ case\n",
    "The solver should produce a result around $5.1\\dots$, which is close to the analytical solution $277/54 \\approx 5.129$. Evaluating the trained model on a separate, similarly sized sample, the result should be reasonably close, $5.12\\dots$, to the result obtained on the training sample."
   ]
  },
  {
   "cell_type": "code",
   "execution_count": 16,
   "metadata": {},
   "outputs": [],
   "source": [
    "# Create a separate sample for evaluation\n",
    "dice_5_eval = np.random.randint(low=1, high=7, size=(M, 5))"
   ]
  },
  {
   "cell_type": "code",
   "execution_count": 17,
   "metadata": {},
   "outputs": [
    {
     "name": "stdout",
     "output_type": "stream",
     "text": [
      "INFO:tensorflow:Calling model_fn.\n",
      "INFO:tensorflow:Done calling model_fn.\n",
      "INFO:tensorflow:Starting evaluation at 2019-10-06T17:49:25Z\n",
      "INFO:tensorflow:Graph was finalized.\n",
      "INFO:tensorflow:Restoring parameters from /var/folders/16/6vfzqvh50sv0n670v2qmktsw0000gn/T/tmp8ggnrjxu/model.ckpt-11720\n",
      "INFO:tensorflow:Running local_init_op.\n",
      "INFO:tensorflow:Done running local_init_op.\n",
      "INFO:tensorflow:Finished evaluation at 2019-10-06-17:49:28\n",
      "INFO:tensorflow:Saving dict for global step 11720: global_step = 11720, loss = 5.1213984\n",
      "INFO:tensorflow:Saving 'checkpoint_path' summary for global step 11720: /var/folders/16/6vfzqvh50sv0n670v2qmktsw0000gn/T/tmp8ggnrjxu/model.ckpt-11720\n",
      "Price: 5.1213984\n"
     ]
    }
   ],
   "source": [
    "# Use the evaluation sample to get the price\n",
    "ev5_ck = nn5.evaluate(input_fn=numpy_eval_input_fn(dice_5_eval))\n",
    "print(\"Price: %s\" % ev5_ck[\"loss\"])"
   ]
  },
  {
   "cell_type": "code",
   "execution_count": null,
   "metadata": {},
   "outputs": [],
   "source": []
  }
 ],
 "metadata": {
  "celltoolbar": "Raw Cell Format",
  "kernelspec": {
   "display_name": "Python [conda env:DLexs]",
   "language": "python",
   "name": "conda-env-DLexs-py"
  },
  "language_info": {
   "codemirror_mode": {
    "name": "ipython",
    "version": 3
   },
   "file_extension": ".py",
   "mimetype": "text/x-python",
   "name": "python",
   "nbconvert_exporter": "python",
   "pygments_lexer": "ipython3",
   "version": "3.7.3"
  }
 },
 "nbformat": 4,
 "nbformat_minor": 2
}
