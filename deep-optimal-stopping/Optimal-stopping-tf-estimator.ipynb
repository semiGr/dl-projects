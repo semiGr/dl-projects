{
 "cells": [
  {
   "cell_type": "markdown",
   "metadata": {
    "nbpresent": {
     "id": "74a2c9b6-abc9-48ad-832b-06ba7936fdd8"
    }
   },
   "source": [
    "### Deep Optimal Stopping - Implementation with tensorflow estimator\n",
    "\n",
    "#### General setting - demonstrated through the dice example"
   ]
  },
  {
   "cell_type": "code",
   "execution_count": 1,
   "metadata": {
    "nbpresent": {
     "id": "8e141512-a121-481e-a5b6-0fd4eb7eb5e6"
    }
   },
   "outputs": [
    {
     "data": {
      "text/plain": [
       "'1.13.1'"
      ]
     },
     "execution_count": 1,
     "metadata": {},
     "output_type": "execute_result"
    }
   ],
   "source": [
    "import tensorflow as tf\n",
    "import numpy as np \n",
    "import scipy\n",
    "tf.__version__"
   ]
  },
  {
   "cell_type": "markdown",
   "metadata": {
    "nbpresent": {
     "id": "d5753b8f-aaa6-44e6-88bf-a09d3fe1a8d8"
    }
   },
   "source": [
    "#### Creating samples in the same format as before. In an $M \\times 3$ matrix the rows represent the outcomes,  i.e. the 3 consecutive tosses"
   ]
  },
  {
   "cell_type": "code",
   "execution_count": 2,
   "metadata": {
    "nbpresent": {
     "id": "98ea9761-b3f5-4417-a6a7-d9ba447ffbf6"
    }
   },
   "outputs": [],
   "source": [
    "# define sample size for training \n",
    "M = 30000\n",
    "\n",
    "# create a sample of M x 3\n",
    "# In this example we only consider 3 tosses, hence only two steps with choices to stop at\n",
    "dice = np.random.randint(low=1, high=7, size=(M, 3))"
   ]
  },
  {
   "cell_type": "code",
   "execution_count": 3,
   "metadata": {
    "nbpresent": {
     "id": "df5bb140-a152-48e9-b1ed-9030e303fe04"
    }
   },
   "outputs": [],
   "source": [
    "# try with 4 \n",
    "dice4 = np.random.randint(low=1, high=7, size=(M, 4))"
   ]
  },
  {
   "cell_type": "code",
   "execution_count": 4,
   "metadata": {
    "nbpresent": {
     "id": "776c2a9d-5181-46aa-b91d-e08ad008ba4c"
    }
   },
   "outputs": [
    {
     "name": "stdout",
     "output_type": "stream",
     "text": [
      "The first 10 samples: \n",
      "[[2 6 5]\n",
      " [5 1 6]\n",
      " [6 1 3]\n",
      " [5 3 5]\n",
      " [6 6 1]\n",
      " [6 2 6]\n",
      " [6 2 2]\n",
      " [4 2 1]\n",
      " [5 2 6]\n",
      " [4 2 1]]\n"
     ]
    }
   ],
   "source": [
    "# see the first 10 paths from the samples generated above\n",
    "print(\"The first 10 samples: \")\n",
    "print(dice[:10, :])"
   ]
  },
  {
   "cell_type": "code",
   "execution_count": 5,
   "metadata": {
    "nbpresent": {
     "id": "2b1d5f0d-a9d1-43d1-9a57-5af197436768"
    }
   },
   "outputs": [
    {
     "name": "stdout",
     "output_type": "stream",
     "text": [
      "The first 10 samples: \n",
      "[[6 6 1 3]\n",
      " [1 1 4 6]\n",
      " [6 1 2 4]\n",
      " [5 1 3 6]\n",
      " [1 6 5 5]\n",
      " [3 5 2 3]\n",
      " [6 6 1 5]\n",
      " [2 6 5 2]\n",
      " [1 6 1 4]\n",
      " [6 5 5 2]]\n"
     ]
    }
   ],
   "source": [
    "# see the first 10 paths from the samples generated above\n",
    "print(\"The first 10 samples: \")\n",
    "print(dice4[:10, :])"
   ]
  },
  {
   "cell_type": "markdown",
   "metadata": {
    "nbpresent": {
     "id": "a8537a15-5ae3-43a3-a38f-472795986af9"
    }
   },
   "source": [
    "#### Define the input functions for training and evaluation in tensorflow estimator"
   ]
  },
  {
   "cell_type": "code",
   "execution_count": 6,
   "metadata": {
    "nbpresent": {
     "id": "2b2cec99-a8a7-4042-aab5-b2c777048d74"
    }
   },
   "outputs": [],
   "source": [
    "# define input function for training with estimator, and use the dice np dataset \n",
    "def numpy_train_input_fn(samples): \n",
    "    # get the number of time steps and number of samples\n",
    "    n_timeSteps = np.shape(samples)[-1]\n",
    "    n_samples = np.shape(samples)[0]\n",
    "    return tf.estimator.inputs.numpy_input_fn(\n",
    "        x = dict(zip(np.arange(n_timeSteps), np.reshape(samples.T.astype(float), \n",
    "                                                                             [n_timeSteps, n_samples, 1]))),\n",
    "        \n",
    "        \n",
    "       # x={\"t0\": np.reshape(dice[:, 0].astype(float), (len(dice[:, 0]), 1)), \n",
    "       #    \"t1\": np.reshape(dice[:, 1].astype(float), (len(dice[:, 1]), 1)), \n",
    "       #    \"t2\": np.reshape(dice[:, 2].astype(float), (len(dice[:, 2]), 1))},\n",
    "        batch_size = 64, \n",
    "        num_epochs = 25, \n",
    "        shuffle = True, \n",
    "        queue_capacity = 1000\n",
    "    )\n",
    "\n",
    "# define input function for evaluation\n",
    "def numpy_eval_input_fn(samples):\n",
    "    # get the number of time steps and number of samples\n",
    "    n_timeSteps = np.shape(samples)[-1]\n",
    "    n_samples = np.shape(samples)[0]\n",
    "    return tf.estimator.inputs.numpy_input_fn(\n",
    "       x = dict(zip(np.arange(n_timeSteps), np.reshape(samples.T.astype(float), \n",
    "                                                                             [n_timeSteps, n_samples, 1]))),\n",
    "        \n",
    "        \n",
    "       # x={\"t0\": np.reshape(dice[:, 0].astype(float), (len(dice[:, 0]), 1)), \n",
    "       #    \"t1\": np.reshape(dice[:, 1].astype(float), (len(dice[:, 1]), 1)), \n",
    "       #    \"t2\": np.reshape(dice[:, 2].astype(float), (len(dice[:, 2]), 1))},\n",
    "        num_epochs = 1, \n",
    "        shuffle = False\n",
    "    )"
   ]
  },
  {
   "cell_type": "markdown",
   "metadata": {
    "nbpresent": {
     "id": "aa25c9f7-6a01-4743-a0ab-e107e44a93c5"
    }
   },
   "source": [
    "#### Model definition"
   ]
  },
  {
   "cell_type": "code",
   "execution_count": null,
   "metadata": {},
   "outputs": [],
   "source": [
    "# ----------------------------------------------\n",
    "# with the for loop towards the general timegrid \n",
    "# ----------------------------------------------\n",
    "\n",
    "def my_model_fn(features, mode, params):  \n",
    "    \n",
    "    \"\"\"Defining the custom architecture\"\"\"\n",
    "    \n",
    "    # input_set = tf.concat([features['t0'], features['t1'], features['t2']], 1, name=\"input_set\")\n",
    "    \n",
    "    N = len(features)\n",
    "    \n",
    "    # creating the input set from the dictionary for practical considerations later\n",
    "    input_set = tf.concat([features[0], features[1]], 1, name=\"input_set\")    \n",
    "    for i in range(N-2):\n",
    "        input_set = tf.concat([input_set, features[2+i]], 1)\n",
    "    \n",
    "    # create a dictionary that stores the NNs; key - time point; value - network component \n",
    "    networks = {x: {'layers': {}, \n",
    "                    'costs': {}, \n",
    "                    'optimizers': {}\n",
    "                   } for x in range(N)}\n",
    "    \n",
    "    # create a dictionary that stores the taus for each n \\in N \n",
    "    taus = {}\n",
    "    \n",
    "    nextInputs = {}\n",
    "    \n",
    "    train_ops = {}\n",
    "    \n",
    "    # Step 1 - Configure the network \n",
    "    \n",
    "    one = tf.constant(1, dtype=tf.float64)\n",
    "    \n",
    "    for t in range(N-2, -1, -1):\n",
    "        with tf.variable_scope(\"t\"+str(t), reuse=tf.AUTO_REUSE):\n",
    "            networks[t]['layers']['first'] = tf.layers.dense(features[t], 51, activation=tf.nn.relu,\n",
    "                                            kernel_initializer=tf.glorot_normal_initializer(),\n",
    "                                            #kernel_initializer=tf.random_normal_initializer(mean=0.0, stddev=0.01), \n",
    "                                            #kernel_regularizer= tf.contrib.layers.l2_regularizer(scale=0.3),\n",
    "                                            name=\"first_layer_\"+str(t))\n",
    "            networks[t]['layers']['second'] = tf.layers.dense(networks[t]['layers']['first'], 51, activation=tf.nn.relu, \n",
    "                                            kernel_initializer=tf.glorot_normal_initializer(),\n",
    "                                            #kernel_initializer=tf.random_normal_initializer(mean=0.0, stddev=0.01),\n",
    "                                            #kernel_regularizer = tf.contrib.layers.l2_regularizer(scale=0.3), \n",
    "                                            name=\"second_layer_\"+str(t))\n",
    "            networks[t]['layers']['logits'] = tf.layers.dense(networks[t]['layers']['second'], 1, activation=None, \n",
    "                                          kernel_initializer=tf.glorot_normal_initializer(),\n",
    "                                          #kernel_initializer=tf.random_normal_initializer(mean=0.0, stddev=0.01),\n",
    "                                          #kernel_regularizer = tf.contrib.layers.l2_regularizer(scale=0.3),\n",
    "                                          name=\"logits_\"+str(t)) \n",
    "            networks[t]['layers']['F_theta'] = tf.nn.sigmoid(networks[t]['layers']['logits'], name=\"F_theta_\"+str(t))\n",
    "            networks[t]['layers']['f_theta'] = tf.cast(tf.clip_by_value(tf.sign(networks[t]['layers']['logits']), 0, 2), dtype=tf.int32, name=\"f_theta_\"+str(t))\n",
    "        \n",
    "        \n",
    "        # Define reward and optimizer\n",
    "        \n",
    "        if t==N-2:\n",
    "            nextInputs[t] = features[t+1]\n",
    "        \n",
    "        \n",
    "            networks[t]['costs']['reward'] = tf.add(tf.multiply(networks[t]['layers']['F_theta'], features[1]), \n",
    "                        tf.multiply((one-networks[t]['layers']['F_theta']), nextInputs[t]), \n",
    "                       name = \"reward_\"+str(t))\n",
    "    \n",
    "            networks[t]['costs']['rAvg'] = tf.reduce_mean(networks[t]['costs']['reward']) \n",
    "            networks[t]['costs']['cost'] = tf.scalar_mul(-1,networks[t]['costs']['rAvg'])\n",
    "            networks[t]['optimizers'] = tf.train.AdamOptimizer(learning_rate=0.001)\n",
    "    \n",
    "        \n",
    "            \n",
    "            train_ops[t] = networks[t]['optimizers'].minimize(networks[t]['costs']['cost'], \n",
    "                                        var_list=tf.get_collection(tf.GraphKeys.TRAINABLE_VARIABLES, scope=\"t\"+str(t)))\n",
    "    \n",
    "            taus[t] = (N-2)*networks[t]['layers']['f_theta'] + (N-1)*(1-networks[t]['layers']['f_theta'])\n",
    "        \n",
    "    \n",
    "    \n",
    "        else:\n",
    "    \n",
    "            nextInputs[t] = tf.gather_nd(input_set, \n",
    "                       indices=tf.concat([tf.reshape(tf.range(tf.shape(taus[t+1])[0]), shape=tf.shape(taus[t+1])), taus[t+1]], 1),\n",
    "                       name=\"g\"+str(t))\n",
    "            \n",
    "            networks[t]['costs']['reward'] = tf.add(tf.multiply(networks[t]['layers']['F_theta'], features[0]), \n",
    "                            tf.multiply((one-networks[t]['layers']['F_theta']), nextInputs[t]), name = \"reward_\"+str(t))\n",
    "            networks[t]['costs']['rAvg'] = tf.reduce_mean(networks[t]['costs']['reward'])\n",
    "            networks[t]['costs']['cost'] = tf.scalar_mul(-1,networks[t]['costs']['rAvg'])\n",
    "    \n",
    "            networks[t]['optimizers'] = tf.train.AdamOptimizer(learning_rate=0.001)\n",
    "        \n",
    "             \n",
    "            train_ops[t] = networks[t]['optimizers'].minimize(networks[t]['costs']['cost'], \n",
    "                                        var_list=tf.get_collection(tf.GraphKeys.TRAINABLE_VARIABLES, scope=\"t\"+str(t)))\n",
    "\n",
    "    \n",
    "            taus[t] = tf.math.reduce_sum(t*networks[t]['layers']['f_theta']+\n",
    "                    [i*networks[i]['layers']['f_theta']*tf.math.reduce_prod([1-networks[j]['layers']['f_theta'] for j in range(t, i)], axis=0) \n",
    "                     for i in range((t+1),(N-1))]+\n",
    "                     (N-1)*tf.math.reduce_prod([1-networks[k]['layers']['f_theta'] for k in range(t, (N-1))], axis=0)           \n",
    "                                , axis=0) # this works ? \n",
    "    \n",
    "    \n",
    "\n",
    "        \n",
    "    g_0 = tf.gather_nd(input_set, \n",
    "                       indices=tf.concat([tf.reshape(tf.range(tf.shape(taus[0])[0]), shape=tf.shape(taus[0])), \n",
    "                                          taus[0]], 1), \n",
    "                       name=\"g_0\")\n",
    "    \n",
    "    \n",
    "    price = tf.reduce_mean(g_0, name=\"price\")\n",
    "    \n",
    "    global_step = tf.train.get_global_step()\n",
    "    update_global_step = tf.assign(global_step, global_step + 1, name = 'update_global_step')\n",
    "    \n",
    "    train_op =tf.group([train_ops[_] for _ in train_ops.keys()])\n",
    "    cost = tf.math.reduce_sum([networks[kk]['costs']['cost'] for kk in train_ops.keys()]) #cost_1st+cost_2nd \n",
    "    \n",
    "    op_ = tf.train.AdamOptimizer(learning_rate=0.005)\n",
    "    train_op_ =op_.minimize(cost)\n",
    "    \n",
    "    if mode == tf.estimator.ModeKeys.EVAL:\n",
    "        return tf.estimator.EstimatorSpec(\n",
    "            mode=mode,\n",
    "            loss=price,\n",
    "            evaluation_hooks=None)\n",
    "       \n",
    "    \n",
    "    # Provide an estimator spec for `ModeKeys.PREDICT`.\n",
    "    \n",
    "    if mode == tf.estimator.ModeKeys.PREDICT:\n",
    "        return tf.estimator.EstimatorSpec(\n",
    "                mode=mode,\n",
    "                predictions={\"price\": price})\n",
    "    \n",
    "    if mode == tf.estimator.ModeKeys.TRAIN:\n",
    "        return tf.estimator.EstimatorSpec(\n",
    "            mode=mode, \n",
    "            loss= cost,  #tf.cond((global_step < 5000), lambda: cost_2nd, lambda: cost_1st), \n",
    "            train_op= tf.group(train_op, update_global_step),\n",
    "            #tf.cond((global_step < 5000), lambda: tf.group(train_op2, update_global_step), \n",
    "                     #       lambda: tf.group(train_op1, update_global_step)),#tf.group(train_op, update_global_step), \n",
    "            training_hooks=None)"
   ]
  },
  {
   "cell_type": "code",
   "execution_count": null,
   "metadata": {
    "nbpresent": {
     "id": "05ccf630-f923-4397-a1ee-0900f48b0d0a"
    }
   },
   "outputs": [],
   "source": [
    "#MODEL_DIR = '/Users/Cellini/Desktop/Quant/DL Udacity/DLexs/Estimator'\n"
   ]
  },
  {
   "cell_type": "code",
   "execution_count": 8,
   "metadata": {
    "nbpresent": {
     "id": "ea137665-bf31-431f-87fb-8bb13c3a0e14"
    }
   },
   "outputs": [
    {
     "name": "stdout",
     "output_type": "stream",
     "text": [
      "INFO:tensorflow:Using default config.\n",
      "WARNING:tensorflow:Using temporary folder as model directory: /var/folders/16/6vfzqvh50sv0n670v2qmktsw0000gn/T/tmpmmcvyjoc\n",
      "INFO:tensorflow:Using config: {'_model_dir': '/var/folders/16/6vfzqvh50sv0n670v2qmktsw0000gn/T/tmpmmcvyjoc', '_tf_random_seed': None, '_save_summary_steps': 100, '_save_checkpoints_steps': None, '_save_checkpoints_secs': 600, '_session_config': allow_soft_placement: true\n",
      "graph_options {\n",
      "  rewrite_options {\n",
      "    meta_optimizer_iterations: ONE\n",
      "  }\n",
      "}\n",
      ", '_keep_checkpoint_max': 5, '_keep_checkpoint_every_n_hours': 10000, '_log_step_count_steps': 100, '_train_distribute': None, '_device_fn': None, '_protocol': None, '_eval_distribute': None, '_experimental_distribute': None, '_service': None, '_cluster_spec': <tensorflow.python.training.server_lib.ClusterSpec object at 0x635e157b8>, '_task_type': 'worker', '_task_id': 0, '_global_id_in_cluster': 0, '_master': '', '_evaluation_master': '', '_is_chief': True, '_num_ps_replicas': 0, '_num_worker_replicas': 1}\n",
      "WARNING:tensorflow:Estimator's model_fn (<function my_model_fn at 0x1077437b8>) includes params argument, but params are not passed to Estimator.\n"
     ]
    }
   ],
   "source": [
    "nn = tf.estimator.Estimator(model_fn=my_model_fn) #, model_dir=MODEL_DIR)"
   ]
  },
  {
   "cell_type": "code",
   "execution_count": 9,
   "metadata": {
    "nbpresent": {
     "id": "b1c26592-1f83-446a-9d11-20a4297b644b"
    }
   },
   "outputs": [
    {
     "name": "stdout",
     "output_type": "stream",
     "text": [
      "WARNING:tensorflow:From /Users/Cellini/anaconda2/envs/DLexs/lib/python3.7/site-packages/tensorflow/python/framework/op_def_library.py:263: colocate_with (from tensorflow.python.framework.ops) is deprecated and will be removed in a future version.\n",
      "Instructions for updating:\n",
      "Colocations handled automatically by placer.\n",
      "WARNING:tensorflow:From /Users/Cellini/anaconda2/envs/DLexs/lib/python3.7/site-packages/tensorflow_estimator/python/estimator/inputs/queues/feeding_queue_runner.py:62: QueueRunner.__init__ (from tensorflow.python.training.queue_runner_impl) is deprecated and will be removed in a future version.\n",
      "Instructions for updating:\n",
      "To construct input pipelines, use the `tf.data` module.\n",
      "WARNING:tensorflow:From /Users/Cellini/anaconda2/envs/DLexs/lib/python3.7/site-packages/tensorflow_estimator/python/estimator/inputs/queues/feeding_functions.py:500: add_queue_runner (from tensorflow.python.training.queue_runner_impl) is deprecated and will be removed in a future version.\n",
      "Instructions for updating:\n",
      "To construct input pipelines, use the `tf.data` module.\n",
      "INFO:tensorflow:Calling model_fn.\n",
      "WARNING:tensorflow:From <ipython-input-7-6dd9798aae63>:41: dense (from tensorflow.python.layers.core) is deprecated and will be removed in a future version.\n",
      "Instructions for updating:\n",
      "Use keras.layers.dense instead.\n",
      "INFO:tensorflow:Done calling model_fn.\n",
      "INFO:tensorflow:Create CheckpointSaverHook.\n",
      "INFO:tensorflow:Graph was finalized.\n",
      "INFO:tensorflow:Running local_init_op.\n",
      "INFO:tensorflow:Done running local_init_op.\n",
      "WARNING:tensorflow:From /Users/Cellini/anaconda2/envs/DLexs/lib/python3.7/site-packages/tensorflow/python/training/monitored_session.py:809: start_queue_runners (from tensorflow.python.training.queue_runner_impl) is deprecated and will be removed in a future version.\n",
      "Instructions for updating:\n",
      "To construct input pipelines, use the `tf.data` module.\n",
      "INFO:tensorflow:Saving checkpoints for 0 into /var/folders/16/6vfzqvh50sv0n670v2qmktsw0000gn/T/tmpmmcvyjoc/model.ckpt.\n",
      "INFO:tensorflow:loss = -7.387059620527715, step = 1\n",
      "INFO:tensorflow:global_step/sec: 41.2992\n",
      "INFO:tensorflow:loss = -7.556451782245364, step = 101 (2.492 sec)\n",
      "INFO:tensorflow:global_step/sec: 166.859\n",
      "INFO:tensorflow:loss = -8.801888365766278, step = 201 (0.529 sec)\n",
      "INFO:tensorflow:global_step/sec: 219.775\n",
      "INFO:tensorflow:loss = -8.846877810473542, step = 301 (0.455 sec)\n",
      "INFO:tensorflow:global_step/sec: 222.335\n",
      "INFO:tensorflow:loss = -8.638105200524198, step = 401 (0.450 sec)\n",
      "INFO:tensorflow:global_step/sec: 220.454\n",
      "INFO:tensorflow:loss = -8.805184447298561, step = 501 (0.454 sec)\n",
      "INFO:tensorflow:global_step/sec: 120.12\n",
      "INFO:tensorflow:loss = -8.690950015900746, step = 601 (0.833 sec)\n",
      "INFO:tensorflow:global_step/sec: 216.957\n",
      "INFO:tensorflow:loss = -8.9122300642431, step = 701 (0.460 sec)\n",
      "INFO:tensorflow:global_step/sec: 186.082\n",
      "INFO:tensorflow:loss = -8.976636090278667, step = 801 (0.541 sec)\n",
      "INFO:tensorflow:global_step/sec: 155.2\n",
      "INFO:tensorflow:loss = -9.026303493208852, step = 901 (0.641 sec)\n",
      "INFO:tensorflow:global_step/sec: 215.587\n",
      "INFO:tensorflow:loss = -8.293880775701346, step = 1001 (0.464 sec)\n",
      "INFO:tensorflow:global_step/sec: 189.526\n",
      "INFO:tensorflow:loss = -9.470176054287492, step = 1101 (0.530 sec)\n",
      "INFO:tensorflow:global_step/sec: 114.814\n",
      "INFO:tensorflow:loss = -8.672049198753346, step = 1201 (0.869 sec)\n",
      "INFO:tensorflow:global_step/sec: 216.672\n",
      "INFO:tensorflow:loss = -9.324416839255463, step = 1301 (0.461 sec)\n",
      "INFO:tensorflow:global_step/sec: 194.284\n",
      "INFO:tensorflow:loss = -8.820534154644015, step = 1401 (0.515 sec)\n",
      "INFO:tensorflow:global_step/sec: 208.319\n",
      "INFO:tensorflow:loss = -8.503136910516243, step = 1501 (0.480 sec)\n",
      "INFO:tensorflow:global_step/sec: 164.899\n",
      "INFO:tensorflow:loss = -9.501652666823293, step = 1601 (0.606 sec)\n",
      "INFO:tensorflow:global_step/sec: 144.337\n",
      "INFO:tensorflow:loss = -8.91124312533482, step = 1701 (0.694 sec)\n",
      "INFO:tensorflow:global_step/sec: 165.054\n",
      "INFO:tensorflow:loss = -8.892917710733883, step = 1801 (0.605 sec)\n",
      "INFO:tensorflow:global_step/sec: 199.936\n",
      "INFO:tensorflow:loss = -9.28158717771559, step = 1901 (0.500 sec)\n",
      "INFO:tensorflow:global_step/sec: 161.649\n",
      "INFO:tensorflow:loss = -8.443271383986106, step = 2001 (0.618 sec)\n",
      "INFO:tensorflow:global_step/sec: 213.902\n",
      "INFO:tensorflow:loss = -8.826351548709908, step = 2101 (0.468 sec)\n",
      "INFO:tensorflow:global_step/sec: 206.751\n",
      "INFO:tensorflow:loss = -8.652207252157686, step = 2201 (0.484 sec)\n",
      "INFO:tensorflow:global_step/sec: 210.891\n",
      "INFO:tensorflow:loss = -9.468635231173337, step = 2301 (0.474 sec)\n",
      "INFO:tensorflow:global_step/sec: 166.02\n",
      "INFO:tensorflow:loss = -9.317212548257332, step = 2401 (0.603 sec)\n",
      "INFO:tensorflow:global_step/sec: 210.468\n",
      "INFO:tensorflow:loss = -8.689293455210741, step = 2501 (0.475 sec)\n",
      "INFO:tensorflow:global_step/sec: 189.617\n",
      "INFO:tensorflow:loss = -9.460691900781747, step = 2601 (0.527 sec)\n",
      "INFO:tensorflow:global_step/sec: 210.206\n",
      "INFO:tensorflow:loss = -8.532584054627403, step = 2701 (0.476 sec)\n",
      "INFO:tensorflow:global_step/sec: 163.761\n",
      "INFO:tensorflow:loss = -8.273213231372395, step = 2801 (0.611 sec)\n",
      "INFO:tensorflow:global_step/sec: 209.835\n",
      "INFO:tensorflow:loss = -8.775311014603673, step = 2901 (0.476 sec)\n",
      "INFO:tensorflow:global_step/sec: 202.611\n",
      "INFO:tensorflow:loss = -9.565377624554378, step = 3001 (0.494 sec)\n",
      "INFO:tensorflow:global_step/sec: 191.305\n",
      "INFO:tensorflow:loss = -9.148061599166828, step = 3101 (0.523 sec)\n",
      "INFO:tensorflow:global_step/sec: 111.876\n",
      "INFO:tensorflow:loss = -8.680844817336114, step = 3201 (0.894 sec)\n",
      "INFO:tensorflow:global_step/sec: 181.701\n",
      "INFO:tensorflow:loss = -9.564719405895936, step = 3301 (0.550 sec)\n",
      "INFO:tensorflow:global_step/sec: 188.532\n",
      "INFO:tensorflow:loss = -8.918540775544656, step = 3401 (0.530 sec)\n",
      "INFO:tensorflow:global_step/sec: 163.146\n",
      "INFO:tensorflow:loss = -8.722492937698089, step = 3501 (0.613 sec)\n",
      "INFO:tensorflow:global_step/sec: 208.552\n",
      "INFO:tensorflow:loss = -8.790760733002816, step = 3601 (0.479 sec)\n",
      "INFO:tensorflow:global_step/sec: 204.411\n",
      "INFO:tensorflow:loss = -8.659855362493095, step = 3701 (0.489 sec)\n",
      "INFO:tensorflow:global_step/sec: 135.026\n",
      "INFO:tensorflow:loss = -9.202721288421287, step = 3801 (0.741 sec)\n",
      "INFO:tensorflow:global_step/sec: 216.645\n",
      "INFO:tensorflow:loss = -8.814773217216203, step = 3901 (0.463 sec)\n",
      "INFO:tensorflow:global_step/sec: 212.065\n",
      "INFO:tensorflow:loss = -8.581442455935877, step = 4001 (0.470 sec)\n",
      "INFO:tensorflow:global_step/sec: 215.821\n",
      "INFO:tensorflow:loss = -9.079654800123235, step = 4101 (0.463 sec)\n",
      "INFO:tensorflow:global_step/sec: 168.128\n",
      "INFO:tensorflow:loss = -8.45592063379311, step = 4201 (0.595 sec)\n",
      "INFO:tensorflow:global_step/sec: 218.084\n",
      "INFO:tensorflow:loss = -9.115003214941433, step = 4301 (0.458 sec)\n",
      "INFO:tensorflow:global_step/sec: 216.398\n",
      "INFO:tensorflow:loss = -8.55244761456057, step = 4401 (0.462 sec)\n",
      "INFO:tensorflow:global_step/sec: 211.2\n",
      "INFO:tensorflow:loss = -8.615584029984845, step = 4501 (0.473 sec)\n",
      "INFO:tensorflow:global_step/sec: 214.841\n",
      "INFO:tensorflow:loss = -8.570420432028193, step = 4601 (0.465 sec)\n",
      "INFO:tensorflow:global_step/sec: 170.703\n",
      "INFO:tensorflow:loss = -8.907128220880365, step = 4701 (0.586 sec)\n",
      "INFO:tensorflow:global_step/sec: 210.943\n",
      "INFO:tensorflow:loss = -8.661242004199345, step = 4801 (0.474 sec)\n",
      "INFO:tensorflow:global_step/sec: 210.739\n",
      "INFO:tensorflow:loss = -9.354131487184066, step = 4901 (0.475 sec)\n",
      "INFO:tensorflow:global_step/sec: 215.567\n",
      "INFO:tensorflow:loss = -9.262009200232374, step = 5001 (0.464 sec)\n",
      "INFO:tensorflow:global_step/sec: 165.326\n",
      "INFO:tensorflow:loss = -9.093411784616816, step = 5101 (0.605 sec)\n",
      "INFO:tensorflow:global_step/sec: 217.706\n",
      "INFO:tensorflow:loss = -8.605380261280065, step = 5201 (0.460 sec)\n",
      "INFO:tensorflow:global_step/sec: 213.523\n",
      "INFO:tensorflow:loss = -9.222494013910225, step = 5301 (0.468 sec)\n",
      "INFO:tensorflow:global_step/sec: 216.35\n",
      "INFO:tensorflow:loss = -9.179549359224099, step = 5401 (0.462 sec)\n",
      "INFO:tensorflow:global_step/sec: 167.11\n",
      "INFO:tensorflow:loss = -9.100517203660694, step = 5501 (0.598 sec)\n",
      "INFO:tensorflow:global_step/sec: 210.055\n",
      "INFO:tensorflow:loss = -9.382690238791469, step = 5601 (0.476 sec)\n",
      "INFO:tensorflow:global_step/sec: 156.962\n",
      "INFO:tensorflow:loss = -8.932806643882284, step = 5701 (0.637 sec)\n",
      "INFO:tensorflow:global_step/sec: 97.8213\n"
     ]
    },
    {
     "name": "stdout",
     "output_type": "stream",
     "text": [
      "INFO:tensorflow:loss = -9.348068186258988, step = 5801 (1.023 sec)\n",
      "INFO:tensorflow:global_step/sec: 118.235\n",
      "INFO:tensorflow:loss = -8.242180741965441, step = 5901 (0.845 sec)\n",
      "INFO:tensorflow:global_step/sec: 167.537\n",
      "INFO:tensorflow:loss = -8.59369419149037, step = 6001 (0.597 sec)\n",
      "INFO:tensorflow:global_step/sec: 101.948\n",
      "INFO:tensorflow:loss = -8.572230530550966, step = 6101 (0.980 sec)\n",
      "INFO:tensorflow:global_step/sec: 141.148\n",
      "INFO:tensorflow:loss = -8.038308112031318, step = 6201 (0.709 sec)\n",
      "INFO:tensorflow:global_step/sec: 99.479\n",
      "INFO:tensorflow:loss = -9.331021115820477, step = 6301 (1.005 sec)\n",
      "INFO:tensorflow:global_step/sec: 122.008\n",
      "INFO:tensorflow:loss = -9.56489158751361, step = 6401 (0.820 sec)\n",
      "INFO:tensorflow:global_step/sec: 161.255\n",
      "INFO:tensorflow:loss = -9.292905686255327, step = 6501 (0.620 sec)\n",
      "INFO:tensorflow:global_step/sec: 160.33\n",
      "INFO:tensorflow:loss = -9.169879144641433, step = 6601 (0.624 sec)\n",
      "INFO:tensorflow:global_step/sec: 206.153\n",
      "INFO:tensorflow:loss = -8.171872545642984, step = 6701 (0.485 sec)\n",
      "INFO:tensorflow:global_step/sec: 177.826\n",
      "INFO:tensorflow:loss = -8.857403367195676, step = 6801 (0.562 sec)\n",
      "INFO:tensorflow:global_step/sec: 120.478\n",
      "INFO:tensorflow:loss = -9.362023945126795, step = 6901 (0.830 sec)\n",
      "INFO:tensorflow:global_step/sec: 174.943\n",
      "INFO:tensorflow:loss = -8.722870639158085, step = 7001 (0.572 sec)\n",
      "INFO:tensorflow:global_step/sec: 166.839\n",
      "INFO:tensorflow:loss = -9.095203720850915, step = 7101 (0.604 sec)\n",
      "INFO:tensorflow:global_step/sec: 157.387\n",
      "INFO:tensorflow:loss = -8.730932278550931, step = 7201 (0.631 sec)\n",
      "INFO:tensorflow:global_step/sec: 219.177\n",
      "INFO:tensorflow:loss = -8.540998372460063, step = 7301 (0.456 sec)\n",
      "INFO:tensorflow:global_step/sec: 213.08\n",
      "INFO:tensorflow:loss = -9.176489636135845, step = 7401 (0.469 sec)\n",
      "INFO:tensorflow:global_step/sec: 218.023\n",
      "INFO:tensorflow:loss = -9.726530202879598, step = 7501 (0.459 sec)\n",
      "INFO:tensorflow:global_step/sec: 215.237\n",
      "INFO:tensorflow:loss = -8.874971767880286, step = 7601 (0.465 sec)\n",
      "INFO:tensorflow:global_step/sec: 171.374\n",
      "INFO:tensorflow:loss = -9.166973202389574, step = 7701 (0.584 sec)\n",
      "INFO:tensorflow:global_step/sec: 214.265\n",
      "INFO:tensorflow:loss = -9.5410005290451, step = 7801 (0.466 sec)\n",
      "INFO:tensorflow:global_step/sec: 219.074\n",
      "INFO:tensorflow:loss = -8.847642320347992, step = 7901 (0.456 sec)\n",
      "INFO:tensorflow:global_step/sec: 216.965\n",
      "INFO:tensorflow:loss = -9.435537399224515, step = 8001 (0.461 sec)\n",
      "INFO:tensorflow:global_step/sec: 163.23\n",
      "INFO:tensorflow:loss = -8.963852454836488, step = 8101 (0.613 sec)\n",
      "INFO:tensorflow:global_step/sec: 215.173\n",
      "INFO:tensorflow:loss = -8.388670966553798, step = 8201 (0.465 sec)\n",
      "INFO:tensorflow:global_step/sec: 218.079\n",
      "INFO:tensorflow:loss = -8.60179996521859, step = 8301 (0.458 sec)\n",
      "INFO:tensorflow:global_step/sec: 217.614\n",
      "INFO:tensorflow:loss = -9.78855650180709, step = 8401 (0.460 sec)\n",
      "INFO:tensorflow:global_step/sec: 166.54\n",
      "INFO:tensorflow:loss = -8.795892135106941, step = 8501 (0.600 sec)\n",
      "INFO:tensorflow:global_step/sec: 215.92\n",
      "INFO:tensorflow:loss = -9.359358965479437, step = 8601 (0.463 sec)\n",
      "INFO:tensorflow:global_step/sec: 219.171\n",
      "INFO:tensorflow:loss = -9.223375578465149, step = 8701 (0.456 sec)\n",
      "INFO:tensorflow:global_step/sec: 210.662\n",
      "INFO:tensorflow:loss = -9.187243040276437, step = 8801 (0.475 sec)\n",
      "INFO:tensorflow:global_step/sec: 173.331\n",
      "INFO:tensorflow:loss = -8.896480304933926, step = 8901 (0.577 sec)\n",
      "INFO:tensorflow:global_step/sec: 217.241\n",
      "INFO:tensorflow:loss = -8.724850010934244, step = 9001 (0.460 sec)\n",
      "INFO:tensorflow:global_step/sec: 213.805\n",
      "INFO:tensorflow:loss = -8.70238441874553, step = 9101 (0.468 sec)\n",
      "INFO:tensorflow:global_step/sec: 214.235\n",
      "INFO:tensorflow:loss = -9.235344324279257, step = 9201 (0.467 sec)\n",
      "INFO:tensorflow:global_step/sec: 166.791\n",
      "INFO:tensorflow:loss = -9.308095229808043, step = 9301 (0.600 sec)\n",
      "INFO:tensorflow:global_step/sec: 215.679\n",
      "INFO:tensorflow:loss = -9.32299330477341, step = 9401 (0.464 sec)\n",
      "INFO:tensorflow:global_step/sec: 219.591\n",
      "INFO:tensorflow:loss = -8.588864462830227, step = 9501 (0.455 sec)\n",
      "INFO:tensorflow:global_step/sec: 210.407\n",
      "INFO:tensorflow:loss = -8.844718874797751, step = 9601 (0.475 sec)\n",
      "INFO:tensorflow:global_step/sec: 171.578\n",
      "INFO:tensorflow:loss = -8.862296587194809, step = 9701 (0.583 sec)\n",
      "INFO:tensorflow:global_step/sec: 214.862\n",
      "INFO:tensorflow:loss = -8.705073584570497, step = 9801 (0.465 sec)\n",
      "INFO:tensorflow:global_step/sec: 219.422\n",
      "INFO:tensorflow:loss = -8.66918546459358, step = 9901 (0.456 sec)\n",
      "INFO:tensorflow:global_step/sec: 217.845\n",
      "INFO:tensorflow:loss = -8.927484643378913, step = 10001 (0.459 sec)\n",
      "INFO:tensorflow:global_step/sec: 180.218\n",
      "INFO:tensorflow:loss = -8.53149142733855, step = 10101 (0.555 sec)\n",
      "INFO:tensorflow:global_step/sec: 199.518\n",
      "INFO:tensorflow:loss = -9.236565249989475, step = 10201 (0.501 sec)\n",
      "INFO:tensorflow:global_step/sec: 217.327\n",
      "INFO:tensorflow:loss = -9.328609650888822, step = 10301 (0.460 sec)\n",
      "INFO:tensorflow:global_step/sec: 217.132\n",
      "INFO:tensorflow:loss = -9.628901471585628, step = 10401 (0.461 sec)\n",
      "INFO:tensorflow:global_step/sec: 221.808\n",
      "INFO:tensorflow:loss = -9.000973063687374, step = 10501 (0.451 sec)\n",
      "INFO:tensorflow:global_step/sec: 171.246\n",
      "INFO:tensorflow:loss = -9.344722732601994, step = 10601 (0.584 sec)\n",
      "INFO:tensorflow:global_step/sec: 219.156\n",
      "INFO:tensorflow:loss = -9.012691158986762, step = 10701 (0.456 sec)\n",
      "INFO:tensorflow:global_step/sec: 215.192\n",
      "INFO:tensorflow:loss = -8.932614378387559, step = 10801 (0.465 sec)\n",
      "INFO:tensorflow:global_step/sec: 218.755\n",
      "INFO:tensorflow:loss = -9.576168999576446, step = 10901 (0.457 sec)\n",
      "INFO:tensorflow:global_step/sec: 164.502\n",
      "INFO:tensorflow:loss = -9.250485415894317, step = 11001 (0.608 sec)\n",
      "INFO:tensorflow:global_step/sec: 218.205\n",
      "INFO:tensorflow:loss = -9.262937425680462, step = 11101 (0.458 sec)\n",
      "INFO:tensorflow:global_step/sec: 204.106\n",
      "INFO:tensorflow:loss = -9.321531974288558, step = 11201 (0.490 sec)\n",
      "INFO:tensorflow:global_step/sec: 217.687\n",
      "INFO:tensorflow:loss = -8.811277363162999, step = 11301 (0.459 sec)\n",
      "INFO:tensorflow:global_step/sec: 161.503\n",
      "INFO:tensorflow:loss = -8.128906286438344, step = 11401 (0.619 sec)\n",
      "INFO:tensorflow:global_step/sec: 209.724\n",
      "INFO:tensorflow:loss = -8.82836828874946, step = 11501 (0.477 sec)\n",
      "INFO:tensorflow:global_step/sec: 202.577\n",
      "INFO:tensorflow:loss = -9.027829375922582, step = 11601 (0.494 sec)\n",
      "INFO:tensorflow:global_step/sec: 209.428\n",
      "INFO:tensorflow:loss = -9.3376450516987, step = 11701 (0.477 sec)\n",
      "INFO:tensorflow:Saving checkpoints for 11720 into /var/folders/16/6vfzqvh50sv0n670v2qmktsw0000gn/T/tmpmmcvyjoc/model.ckpt.\n",
      "INFO:tensorflow:Loss for final step: -8.204860150847493.\n"
     ]
    },
    {
     "data": {
      "text/plain": [
       "<tensorflow_estimator.python.estimator.estimator.Estimator at 0x635e15e80>"
      ]
     },
     "execution_count": 9,
     "metadata": {},
     "output_type": "execute_result"
    }
   ],
   "source": [
    "nn.train(input_fn=numpy_train_input_fn(dice), steps=20000)"
   ]
  },
  {
   "cell_type": "code",
   "execution_count": 10,
   "metadata": {
    "nbpresent": {
     "id": "eea1ba4c-c56d-4415-8f7d-1a4e2b8d5fe2"
    }
   },
   "outputs": [
    {
     "name": "stdout",
     "output_type": "stream",
     "text": [
      "INFO:tensorflow:Calling model_fn.\n",
      "INFO:tensorflow:Done calling model_fn.\n",
      "WARNING:tensorflow:From /Users/Cellini/anaconda2/envs/DLexs/lib/python3.7/site-packages/tensorflow/python/ops/metrics_impl.py:363: to_float (from tensorflow.python.ops.math_ops) is deprecated and will be removed in a future version.\n",
      "Instructions for updating:\n",
      "Use tf.cast instead.\n",
      "INFO:tensorflow:Starting evaluation at 2019-10-03T20:58:39Z\n",
      "INFO:tensorflow:Graph was finalized.\n",
      "WARNING:tensorflow:From /Users/Cellini/anaconda2/envs/DLexs/lib/python3.7/site-packages/tensorflow/python/training/saver.py:1266: checkpoint_exists (from tensorflow.python.training.checkpoint_management) is deprecated and will be removed in a future version.\n",
      "Instructions for updating:\n",
      "Use standard file APIs to check for files with this prefix.\n",
      "INFO:tensorflow:Restoring parameters from /var/folders/16/6vfzqvh50sv0n670v2qmktsw0000gn/T/tmpmmcvyjoc/model.ckpt-11720\n",
      "INFO:tensorflow:Running local_init_op.\n",
      "INFO:tensorflow:Done running local_init_op.\n",
      "INFO:tensorflow:Finished evaluation at 2019-10-03-20:58:41\n",
      "INFO:tensorflow:Saving dict for global step 11720: global_step = 11720, loss = 4.6849513\n",
      "INFO:tensorflow:Saving 'checkpoint_path' summary for global step 11720: /var/folders/16/6vfzqvh50sv0n670v2qmktsw0000gn/T/tmpmmcvyjoc/model.ckpt-11720\n",
      "Price: 4.6849513\n"
     ]
    }
   ],
   "source": [
    "ev = nn.evaluate(input_fn=numpy_eval_input_fn(dice))\n",
    "print(\"Price: %s\" % ev[\"loss\"])\n"
   ]
  },
  {
   "cell_type": "markdown",
   "metadata": {
    "nbpresent": {
     "id": "1ec80917-86cf-47e6-81e2-6d765e42d00d"
    }
   },
   "source": [
    "#### Result \n",
    "The solver should produce a result around $4.6\\dots$, which is close to the analytical solution $28/6\\approx 4.66$. Evaluating the trained model on a separate, similarly sized sample, the result should be reasonably close, $4.6\\dots$, to the result obtained on the training sample."
   ]
  },
  {
   "cell_type": "code",
   "execution_count": 11,
   "metadata": {
    "nbpresent": {
     "id": "802163de-cc1d-463d-8317-584eed6407e6"
    }
   },
   "outputs": [],
   "source": [
    "# Create a separate sample for evaluation\n",
    "dice_eval = np.random.randint(low=1, high=7, size=(M, 3))"
   ]
  },
  {
   "cell_type": "code",
   "execution_count": 12,
   "metadata": {
    "nbpresent": {
     "id": "b2533218-f660-4f5d-9fc8-ba216291eb07"
    }
   },
   "outputs": [
    {
     "name": "stdout",
     "output_type": "stream",
     "text": [
      "INFO:tensorflow:Calling model_fn.\n",
      "INFO:tensorflow:Done calling model_fn.\n",
      "INFO:tensorflow:Starting evaluation at 2019-10-03T20:58:56Z\n",
      "INFO:tensorflow:Graph was finalized.\n",
      "INFO:tensorflow:Restoring parameters from /var/folders/16/6vfzqvh50sv0n670v2qmktsw0000gn/T/tmpmmcvyjoc/model.ckpt-11720\n",
      "INFO:tensorflow:Running local_init_op.\n",
      "INFO:tensorflow:Done running local_init_op.\n",
      "INFO:tensorflow:Finished evaluation at 2019-10-03-20:58:58\n",
      "INFO:tensorflow:Saving dict for global step 11720: global_step = 11720, loss = 4.675166\n",
      "INFO:tensorflow:Saving 'checkpoint_path' summary for global step 11720: /var/folders/16/6vfzqvh50sv0n670v2qmktsw0000gn/T/tmpmmcvyjoc/model.ckpt-11720\n",
      "Price: 4.675166\n"
     ]
    }
   ],
   "source": [
    "# Use the evaluation sample to get the price\n",
    "ev_ck = nn.evaluate(input_fn=numpy_eval_input_fn(dice_eval))\n",
    "print(\"Price: %s\" % ev_ck[\"loss\"])\n"
   ]
  },
  {
   "cell_type": "code",
   "execution_count": 13,
   "metadata": {
    "nbpresent": {
     "id": "194d0ffe-bbfc-4bd2-ab6e-7518f13dd6da"
    }
   },
   "outputs": [
    {
     "name": "stdout",
     "output_type": "stream",
     "text": [
      "INFO:tensorflow:Using default config.\n",
      "WARNING:tensorflow:Using temporary folder as model directory: /var/folders/16/6vfzqvh50sv0n670v2qmktsw0000gn/T/tmpm4jcpv4_\n",
      "INFO:tensorflow:Using config: {'_model_dir': '/var/folders/16/6vfzqvh50sv0n670v2qmktsw0000gn/T/tmpm4jcpv4_', '_tf_random_seed': None, '_save_summary_steps': 100, '_save_checkpoints_steps': None, '_save_checkpoints_secs': 600, '_session_config': allow_soft_placement: true\n",
      "graph_options {\n",
      "  rewrite_options {\n",
      "    meta_optimizer_iterations: ONE\n",
      "  }\n",
      "}\n",
      ", '_keep_checkpoint_max': 5, '_keep_checkpoint_every_n_hours': 10000, '_log_step_count_steps': 100, '_train_distribute': None, '_device_fn': None, '_protocol': None, '_eval_distribute': None, '_experimental_distribute': None, '_service': None, '_cluster_spec': <tensorflow.python.training.server_lib.ClusterSpec object at 0x6389f7668>, '_task_type': 'worker', '_task_id': 0, '_global_id_in_cluster': 0, '_master': '', '_evaluation_master': '', '_is_chief': True, '_num_ps_replicas': 0, '_num_worker_replicas': 1}\n",
      "WARNING:tensorflow:Estimator's model_fn (<function my_model_fn at 0x1077437b8>) includes params argument, but params are not passed to Estimator.\n"
     ]
    }
   ],
   "source": [
    "nn4 = tf.estimator.Estimator(model_fn=my_model_fn)"
   ]
  },
  {
   "cell_type": "code",
   "execution_count": 14,
   "metadata": {
    "nbpresent": {
     "id": "e85c96b8-2006-4e95-957e-f599e23658be"
    }
   },
   "outputs": [
    {
     "name": "stdout",
     "output_type": "stream",
     "text": [
      "INFO:tensorflow:Calling model_fn.\n",
      "INFO:tensorflow:Done calling model_fn.\n",
      "INFO:tensorflow:Create CheckpointSaverHook.\n",
      "INFO:tensorflow:Graph was finalized.\n",
      "INFO:tensorflow:Running local_init_op.\n",
      "INFO:tensorflow:Done running local_init_op.\n",
      "INFO:tensorflow:Saving checkpoints for 0 into /var/folders/16/6vfzqvh50sv0n670v2qmktsw0000gn/T/tmpm4jcpv4_/model.ckpt.\n",
      "INFO:tensorflow:loss = -10.793564131745416, step = 1\n",
      "INFO:tensorflow:global_step/sec: 32.5349\n",
      "INFO:tensorflow:loss = -10.629389626936266, step = 101 (3.074 sec)\n",
      "INFO:tensorflow:global_step/sec: 189.163\n",
      "INFO:tensorflow:loss = -11.161982909233325, step = 201 (0.529 sec)\n",
      "INFO:tensorflow:global_step/sec: 141.343\n",
      "INFO:tensorflow:loss = -10.932331246046243, step = 301 (0.708 sec)\n",
      "INFO:tensorflow:global_step/sec: 184.5\n",
      "INFO:tensorflow:loss = -10.809535245428972, step = 401 (0.542 sec)\n",
      "INFO:tensorflow:global_step/sec: 189.762\n",
      "INFO:tensorflow:loss = -11.651199206413672, step = 501 (0.527 sec)\n",
      "INFO:tensorflow:global_step/sec: 140.638\n",
      "INFO:tensorflow:loss = -11.702438186942437, step = 601 (0.711 sec)\n",
      "INFO:tensorflow:global_step/sec: 177.33\n",
      "INFO:tensorflow:loss = -11.439785966648206, step = 701 (0.564 sec)\n",
      "INFO:tensorflow:global_step/sec: 186.031\n",
      "INFO:tensorflow:loss = -11.1165776960406, step = 801 (0.538 sec)\n",
      "INFO:tensorflow:global_step/sec: 181.538\n",
      "INFO:tensorflow:loss = -11.23807298458556, step = 901 (0.551 sec)\n",
      "INFO:tensorflow:global_step/sec: 143.152\n",
      "INFO:tensorflow:loss = -11.634187232714886, step = 1001 (0.699 sec)\n",
      "INFO:tensorflow:global_step/sec: 187.896\n",
      "INFO:tensorflow:loss = -10.826939202427319, step = 1101 (0.532 sec)\n",
      "INFO:tensorflow:global_step/sec: 187.739\n",
      "INFO:tensorflow:loss = -10.92872843955915, step = 1201 (0.533 sec)\n",
      "INFO:tensorflow:global_step/sec: 142.47\n",
      "INFO:tensorflow:loss = -11.052793435059971, step = 1301 (0.702 sec)\n",
      "INFO:tensorflow:global_step/sec: 184.072\n",
      "INFO:tensorflow:loss = -10.956776824248147, step = 1401 (0.543 sec)\n",
      "INFO:tensorflow:global_step/sec: 172.212\n",
      "INFO:tensorflow:loss = -11.379266841207164, step = 1501 (0.581 sec)\n",
      "INFO:tensorflow:global_step/sec: 185.253\n",
      "INFO:tensorflow:loss = -11.621855981727139, step = 1601 (0.540 sec)\n",
      "INFO:tensorflow:global_step/sec: 147.945\n",
      "INFO:tensorflow:loss = -10.938927533427687, step = 1701 (0.676 sec)\n",
      "INFO:tensorflow:global_step/sec: 183.673\n",
      "INFO:tensorflow:loss = -11.30890310523626, step = 1801 (0.544 sec)\n",
      "INFO:tensorflow:global_step/sec: 185.094\n",
      "INFO:tensorflow:loss = -10.31682568828468, step = 1901 (0.540 sec)\n",
      "INFO:tensorflow:global_step/sec: 143.369\n",
      "INFO:tensorflow:loss = -10.633924759194022, step = 2001 (0.697 sec)\n",
      "INFO:tensorflow:global_step/sec: 171.272\n",
      "INFO:tensorflow:loss = -10.800671784938373, step = 2101 (0.584 sec)\n",
      "INFO:tensorflow:global_step/sec: 185.815\n",
      "INFO:tensorflow:loss = -12.22263181351834, step = 2201 (0.538 sec)\n",
      "INFO:tensorflow:global_step/sec: 181.591\n",
      "INFO:tensorflow:loss = -11.412017272758987, step = 2301 (0.551 sec)\n",
      "INFO:tensorflow:global_step/sec: 145.998\n",
      "INFO:tensorflow:loss = -11.103605242318524, step = 2401 (0.685 sec)\n",
      "INFO:tensorflow:global_step/sec: 170.504\n",
      "INFO:tensorflow:loss = -11.183328449613558, step = 2501 (0.587 sec)\n",
      "INFO:tensorflow:global_step/sec: 164.671\n",
      "INFO:tensorflow:loss = -10.881627971043457, step = 2601 (0.607 sec)\n",
      "INFO:tensorflow:global_step/sec: 144.297\n",
      "INFO:tensorflow:loss = -11.537743936975495, step = 2701 (0.693 sec)\n",
      "INFO:tensorflow:global_step/sec: 168.916\n",
      "INFO:tensorflow:loss = -10.404569377926112, step = 2801 (0.592 sec)\n",
      "INFO:tensorflow:global_step/sec: 183.12\n",
      "INFO:tensorflow:loss = -11.02471288835839, step = 2901 (0.546 sec)\n",
      "INFO:tensorflow:global_step/sec: 141.046\n",
      "INFO:tensorflow:loss = -12.073705352053146, step = 3001 (0.709 sec)\n",
      "INFO:tensorflow:global_step/sec: 179.588\n",
      "INFO:tensorflow:loss = -10.724599042465204, step = 3101 (0.557 sec)\n",
      "INFO:tensorflow:global_step/sec: 184.192\n",
      "INFO:tensorflow:loss = -11.31821966253549, step = 3201 (0.543 sec)\n",
      "INFO:tensorflow:global_step/sec: 169.566\n",
      "INFO:tensorflow:loss = -11.490654668197466, step = 3301 (0.590 sec)\n",
      "INFO:tensorflow:global_step/sec: 142.766\n",
      "INFO:tensorflow:loss = -11.09805240249448, step = 3401 (0.701 sec)\n",
      "INFO:tensorflow:global_step/sec: 179.933\n",
      "INFO:tensorflow:loss = -11.165345292330139, step = 3501 (0.556 sec)\n",
      "INFO:tensorflow:global_step/sec: 178.992\n",
      "INFO:tensorflow:loss = -12.04750581755473, step = 3601 (0.559 sec)\n",
      "INFO:tensorflow:global_step/sec: 140.592\n",
      "INFO:tensorflow:loss = -11.759436049498117, step = 3701 (0.711 sec)\n",
      "INFO:tensorflow:global_step/sec: 178.548\n",
      "INFO:tensorflow:loss = -11.622951333754866, step = 3801 (0.560 sec)\n",
      "INFO:tensorflow:global_step/sec: 180.051\n",
      "INFO:tensorflow:loss = -11.971134083457386, step = 3901 (0.555 sec)\n",
      "INFO:tensorflow:global_step/sec: 179.362\n",
      "INFO:tensorflow:loss = -11.836368079742597, step = 4001 (0.558 sec)\n",
      "INFO:tensorflow:global_step/sec: 139.974\n",
      "INFO:tensorflow:loss = -10.82397406572526, step = 4101 (0.714 sec)\n",
      "INFO:tensorflow:global_step/sec: 180.095\n",
      "INFO:tensorflow:loss = -11.235838269010717, step = 4201 (0.556 sec)\n",
      "INFO:tensorflow:global_step/sec: 177.275\n",
      "INFO:tensorflow:loss = -11.074374692901698, step = 4301 (0.563 sec)\n",
      "INFO:tensorflow:global_step/sec: 140.346\n",
      "INFO:tensorflow:loss = -11.168162638345812, step = 4401 (0.712 sec)\n",
      "INFO:tensorflow:global_step/sec: 180.372\n",
      "INFO:tensorflow:loss = -10.93469539996, step = 4501 (0.555 sec)\n",
      "INFO:tensorflow:global_step/sec: 175.52\n",
      "INFO:tensorflow:loss = -11.196463587832724, step = 4601 (0.570 sec)\n",
      "INFO:tensorflow:global_step/sec: 135.659\n",
      "INFO:tensorflow:loss = -10.971205085256518, step = 4701 (0.737 sec)\n",
      "INFO:tensorflow:global_step/sec: 177.731\n",
      "INFO:tensorflow:loss = -11.161152938420944, step = 4801 (0.563 sec)\n",
      "INFO:tensorflow:global_step/sec: 179.794\n",
      "INFO:tensorflow:loss = -11.416644705823186, step = 4901 (0.556 sec)\n",
      "INFO:tensorflow:global_step/sec: 155.43\n",
      "INFO:tensorflow:loss = -11.583146319410197, step = 5001 (0.644 sec)\n",
      "INFO:tensorflow:global_step/sec: 142.254\n",
      "INFO:tensorflow:loss = -11.539187224407407, step = 5101 (0.703 sec)\n",
      "INFO:tensorflow:global_step/sec: 181.988\n",
      "INFO:tensorflow:loss = -10.563458657059002, step = 5201 (0.549 sec)\n",
      "INFO:tensorflow:global_step/sec: 180.733\n",
      "INFO:tensorflow:loss = -11.936786009251861, step = 5301 (0.554 sec)\n",
      "INFO:tensorflow:global_step/sec: 140.403\n",
      "INFO:tensorflow:loss = -10.968449075486092, step = 5401 (0.712 sec)\n",
      "INFO:tensorflow:global_step/sec: 183.395\n",
      "INFO:tensorflow:loss = -10.733620755966776, step = 5501 (0.545 sec)\n",
      "INFO:tensorflow:global_step/sec: 181.011\n",
      "INFO:tensorflow:loss = -10.796797228697153, step = 5601 (0.552 sec)\n",
      "INFO:tensorflow:global_step/sec: 143.316\n",
      "INFO:tensorflow:loss = -11.195592316953043, step = 5701 (0.698 sec)\n",
      "INFO:tensorflow:global_step/sec: 181.381\n",
      "INFO:tensorflow:loss = -11.449732376138137, step = 5801 (0.551 sec)\n",
      "INFO:tensorflow:global_step/sec: 172.574\n",
      "INFO:tensorflow:loss = -11.470512589308962, step = 5901 (0.579 sec)\n",
      "INFO:tensorflow:global_step/sec: 183.663\n",
      "INFO:tensorflow:loss = -11.182259221572442, step = 6001 (0.544 sec)\n",
      "INFO:tensorflow:global_step/sec: 143.983\n",
      "INFO:tensorflow:loss = -10.75521360021035, step = 6101 (0.695 sec)\n",
      "INFO:tensorflow:global_step/sec: 180.901\n",
      "INFO:tensorflow:loss = -10.48876413329407, step = 6201 (0.553 sec)\n",
      "INFO:tensorflow:global_step/sec: 179.162\n",
      "INFO:tensorflow:loss = -10.963090124450806, step = 6301 (0.558 sec)\n",
      "INFO:tensorflow:global_step/sec: 141.686\n",
      "INFO:tensorflow:loss = -11.641160146667783, step = 6401 (0.706 sec)\n",
      "INFO:tensorflow:global_step/sec: 182.916\n",
      "INFO:tensorflow:loss = -12.028032004926732, step = 6501 (0.547 sec)\n",
      "INFO:tensorflow:global_step/sec: 177.276\n",
      "INFO:tensorflow:loss = -11.578956420489387, step = 6601 (0.564 sec)\n",
      "INFO:tensorflow:global_step/sec: 182.464\n",
      "INFO:tensorflow:loss = -10.844415450766379, step = 6701 (0.548 sec)\n",
      "INFO:tensorflow:global_step/sec: 141.584\n",
      "INFO:tensorflow:loss = -11.303101599125718, step = 6801 (0.706 sec)\n",
      "INFO:tensorflow:global_step/sec: 177.984\n",
      "INFO:tensorflow:loss = -11.623598260891477, step = 6901 (0.562 sec)\n",
      "INFO:tensorflow:global_step/sec: 182.409\n",
      "INFO:tensorflow:loss = -10.784298681706918, step = 7001 (0.548 sec)\n",
      "INFO:tensorflow:global_step/sec: 140.706\n",
      "INFO:tensorflow:loss = -11.14474138548394, step = 7101 (0.711 sec)\n",
      "INFO:tensorflow:global_step/sec: 181.756\n",
      "INFO:tensorflow:loss = -11.195525023382805, step = 7201 (0.550 sec)\n"
     ]
    },
    {
     "name": "stdout",
     "output_type": "stream",
     "text": [
      "INFO:tensorflow:global_step/sec: 177.972\n",
      "INFO:tensorflow:loss = -11.483294864090563, step = 7301 (0.562 sec)\n",
      "INFO:tensorflow:global_step/sec: 180.118\n",
      "INFO:tensorflow:loss = -10.836353414186222, step = 7401 (0.555 sec)\n",
      "INFO:tensorflow:global_step/sec: 146.906\n",
      "INFO:tensorflow:loss = -11.501215225292722, step = 7501 (0.681 sec)\n",
      "INFO:tensorflow:global_step/sec: 176.94\n",
      "INFO:tensorflow:loss = -11.580967976453515, step = 7601 (0.565 sec)\n",
      "INFO:tensorflow:global_step/sec: 186.154\n",
      "INFO:tensorflow:loss = -11.338078328536517, step = 7701 (0.537 sec)\n",
      "INFO:tensorflow:global_step/sec: 142.66\n",
      "INFO:tensorflow:loss = -11.020099852496681, step = 7801 (0.701 sec)\n",
      "INFO:tensorflow:global_step/sec: 175.566\n",
      "INFO:tensorflow:loss = -11.605092702648932, step = 7901 (0.570 sec)\n",
      "INFO:tensorflow:global_step/sec: 180.576\n",
      "INFO:tensorflow:loss = -11.056433017053003, step = 8001 (0.554 sec)\n",
      "INFO:tensorflow:global_step/sec: 120.545\n",
      "INFO:tensorflow:loss = -11.0279403259476, step = 8101 (0.830 sec)\n",
      "INFO:tensorflow:global_step/sec: 181.831\n",
      "INFO:tensorflow:loss = -11.920050654247758, step = 8201 (0.550 sec)\n",
      "INFO:tensorflow:global_step/sec: 185.462\n",
      "INFO:tensorflow:loss = -11.285275294444526, step = 8301 (0.539 sec)\n",
      "INFO:tensorflow:global_step/sec: 130.84\n",
      "INFO:tensorflow:loss = -12.325307809985414, step = 8401 (0.764 sec)\n",
      "INFO:tensorflow:global_step/sec: 174.343\n",
      "INFO:tensorflow:loss = -11.527243896930006, step = 8501 (0.573 sec)\n",
      "INFO:tensorflow:global_step/sec: 182.326\n",
      "INFO:tensorflow:loss = -11.710158668242212, step = 8601 (0.548 sec)\n",
      "INFO:tensorflow:global_step/sec: 178.689\n",
      "INFO:tensorflow:loss = -11.238214913119865, step = 8701 (0.560 sec)\n",
      "INFO:tensorflow:global_step/sec: 138.506\n",
      "INFO:tensorflow:loss = -11.152797110519526, step = 8801 (0.722 sec)\n",
      "INFO:tensorflow:global_step/sec: 156.914\n",
      "INFO:tensorflow:loss = -12.229167942811022, step = 8901 (0.638 sec)\n",
      "INFO:tensorflow:global_step/sec: 113.685\n",
      "INFO:tensorflow:loss = -11.126301631504017, step = 9001 (0.879 sec)\n",
      "INFO:tensorflow:global_step/sec: 115.032\n",
      "INFO:tensorflow:loss = -11.513369693058376, step = 9101 (0.869 sec)\n",
      "INFO:tensorflow:global_step/sec: 123.718\n",
      "INFO:tensorflow:loss = -12.167944270701469, step = 9201 (0.808 sec)\n",
      "INFO:tensorflow:global_step/sec: 109.114\n",
      "INFO:tensorflow:loss = -11.104231096066083, step = 9301 (0.917 sec)\n",
      "INFO:tensorflow:global_step/sec: 141.478\n",
      "INFO:tensorflow:loss = -11.934573252354507, step = 9401 (0.707 sec)\n",
      "INFO:tensorflow:global_step/sec: 136.496\n",
      "INFO:tensorflow:loss = -12.219695809704154, step = 9501 (0.733 sec)\n",
      "INFO:tensorflow:global_step/sec: 127.6\n",
      "INFO:tensorflow:loss = -11.198951584858857, step = 9601 (0.784 sec)\n",
      "INFO:tensorflow:global_step/sec: 180.922\n",
      "INFO:tensorflow:loss = -12.183818799206094, step = 9701 (0.553 sec)\n",
      "INFO:tensorflow:global_step/sec: 177.741\n",
      "INFO:tensorflow:loss = -11.790380816365769, step = 9801 (0.563 sec)\n",
      "INFO:tensorflow:global_step/sec: 138.959\n",
      "INFO:tensorflow:loss = -11.773505099301854, step = 9901 (0.719 sec)\n",
      "INFO:tensorflow:global_step/sec: 130.074\n",
      "INFO:tensorflow:loss = -11.752491862545252, step = 10001 (0.769 sec)\n",
      "INFO:tensorflow:global_step/sec: 143.458\n",
      "INFO:tensorflow:loss = -12.005289857375331, step = 10101 (0.697 sec)\n",
      "INFO:tensorflow:global_step/sec: 127.18\n",
      "INFO:tensorflow:loss = -12.027027746632847, step = 10201 (0.786 sec)\n",
      "INFO:tensorflow:global_step/sec: 134.538\n",
      "INFO:tensorflow:loss = -12.144212767061262, step = 10301 (0.743 sec)\n",
      "INFO:tensorflow:global_step/sec: 126.25\n",
      "INFO:tensorflow:loss = -11.97620786566543, step = 10401 (0.792 sec)\n",
      "INFO:tensorflow:global_step/sec: 112.273\n",
      "INFO:tensorflow:loss = -11.607482358916899, step = 10501 (0.892 sec)\n",
      "INFO:tensorflow:global_step/sec: 170.405\n",
      "INFO:tensorflow:loss = -11.757485976028327, step = 10601 (0.589 sec)\n",
      "INFO:tensorflow:global_step/sec: 121.113\n",
      "INFO:tensorflow:loss = -12.253049245377358, step = 10701 (0.822 sec)\n",
      "INFO:tensorflow:global_step/sec: 176.117\n",
      "INFO:tensorflow:loss = -11.595753057216601, step = 10801 (0.568 sec)\n",
      "INFO:tensorflow:global_step/sec: 178.896\n",
      "INFO:tensorflow:loss = -11.37510469034328, step = 10901 (0.559 sec)\n",
      "INFO:tensorflow:global_step/sec: 161.264\n",
      "INFO:tensorflow:loss = -12.437223075433618, step = 11001 (0.620 sec)\n",
      "INFO:tensorflow:global_step/sec: 150.373\n",
      "INFO:tensorflow:loss = -12.873519952564099, step = 11101 (0.665 sec)\n",
      "INFO:tensorflow:global_step/sec: 147.795\n",
      "INFO:tensorflow:loss = -12.529235526376974, step = 11201 (0.676 sec)\n",
      "INFO:tensorflow:global_step/sec: 184.106\n",
      "INFO:tensorflow:loss = -11.855117852047094, step = 11301 (0.543 sec)\n",
      "INFO:tensorflow:global_step/sec: 143.288\n",
      "INFO:tensorflow:loss = -12.473600327048224, step = 11401 (0.698 sec)\n",
      "INFO:tensorflow:global_step/sec: 185.747\n",
      "INFO:tensorflow:loss = -11.777315672996558, step = 11501 (0.538 sec)\n",
      "INFO:tensorflow:global_step/sec: 179.618\n",
      "INFO:tensorflow:loss = -12.390212739952398, step = 11601 (0.557 sec)\n",
      "INFO:tensorflow:global_step/sec: 140.307\n",
      "INFO:tensorflow:loss = -12.537280674313909, step = 11701 (0.713 sec)\n",
      "INFO:tensorflow:Saving checkpoints for 11720 into /var/folders/16/6vfzqvh50sv0n670v2qmktsw0000gn/T/tmpm4jcpv4_/model.ckpt.\n",
      "INFO:tensorflow:Loss for final step: -12.42442966193344.\n"
     ]
    },
    {
     "data": {
      "text/plain": [
       "<tensorflow_estimator.python.estimator.estimator.Estimator at 0x6385f1ef0>"
      ]
     },
     "execution_count": 14,
     "metadata": {},
     "output_type": "execute_result"
    }
   ],
   "source": [
    "nn4.train(input_fn=numpy_train_input_fn(dice4), steps=20000)"
   ]
  },
  {
   "cell_type": "code",
   "execution_count": 15,
   "metadata": {
    "nbpresent": {
     "id": "b897dfd8-052d-4b9a-a9a6-686fc2025c9f"
    }
   },
   "outputs": [
    {
     "name": "stdout",
     "output_type": "stream",
     "text": [
      "INFO:tensorflow:Calling model_fn.\n",
      "INFO:tensorflow:Done calling model_fn.\n",
      "INFO:tensorflow:Starting evaluation at 2019-10-03T21:00:31Z\n",
      "INFO:tensorflow:Graph was finalized.\n",
      "INFO:tensorflow:Restoring parameters from /var/folders/16/6vfzqvh50sv0n670v2qmktsw0000gn/T/tmpm4jcpv4_/model.ckpt-11720\n",
      "INFO:tensorflow:Running local_init_op.\n",
      "INFO:tensorflow:Done running local_init_op.\n",
      "INFO:tensorflow:Finished evaluation at 2019-10-03-21:00:34\n",
      "INFO:tensorflow:Saving dict for global step 11720: global_step = 11720, loss = 4.616899\n",
      "INFO:tensorflow:Saving 'checkpoint_path' summary for global step 11720: /var/folders/16/6vfzqvh50sv0n670v2qmktsw0000gn/T/tmpm4jcpv4_/model.ckpt-11720\n",
      "Price: 4.616899\n"
     ]
    }
   ],
   "source": [
    "ev4 = nn4.evaluate(input_fn=numpy_eval_input_fn(dice4))\n",
    "print(\"Price: %s\" % ev4[\"loss\"])\n"
   ]
  }
 ],
 "metadata": {
  "celltoolbar": "Raw Cell Format",
  "kernelspec": {
   "display_name": "Python [conda env:DLexs]",
   "language": "python",
   "name": "conda-env-DLexs-py"
  },
  "language_info": {
   "codemirror_mode": {
    "name": "ipython",
    "version": 3
   },
   "file_extension": ".py",
   "mimetype": "text/x-python",
   "name": "python",
   "nbconvert_exporter": "python",
   "pygments_lexer": "ipython3",
   "version": "3.7.3"
  }
 },
 "nbformat": 4,
 "nbformat_minor": 2
}
